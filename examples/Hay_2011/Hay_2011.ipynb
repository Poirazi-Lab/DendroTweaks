{
 "cells": [
  {
   "cell_type": "code",
   "execution_count": 1,
   "metadata": {},
   "outputs": [],
   "source": [
    "import numpy as np\n",
    "import matplotlib.pyplot as plt\n",
    "from pprint import pprint"
   ]
  },
  {
   "cell_type": "code",
   "execution_count": 2,
   "metadata": {},
   "outputs": [
    {
     "data": {
      "text/plain": [
       "'0.2.0'"
      ]
     },
     "execution_count": 2,
     "metadata": {},
     "output_type": "execute_result"
    }
   ],
   "source": [
    "import dendrotweaks as dd\n",
    "dd.__version__"
   ]
  },
  {
   "cell_type": "code",
   "execution_count": 3,
   "metadata": {},
   "outputs": [],
   "source": [
    "dd.apply_dark_theme()"
   ]
  },
  {
   "cell_type": "code",
   "execution_count": 4,
   "metadata": {},
   "outputs": [],
   "source": [
    "import os\n",
    "path_to_model = os.getcwd()\n",
    "path_to_data = os.path.dirname(path_to_model)"
   ]
  },
  {
   "cell_type": "code",
   "execution_count": 5,
   "metadata": {},
   "outputs": [],
   "source": [
    "model = dd.Model(path_to_model)"
   ]
  },
  {
   "cell_type": "code",
   "execution_count": 6,
   "metadata": {},
   "outputs": [
    {
     "data": {
      "text/plain": [
       "['Hay_2011', 'Hay_2011_sorted']"
      ]
     },
     "execution_count": 6,
     "metadata": {},
     "output_type": "execute_result"
    }
   ],
   "source": [
    "model.list_morphologies()"
   ]
  },
  {
   "cell_type": "code",
   "execution_count": 7,
   "metadata": {},
   "outputs": [
    {
     "name": "stdout",
     "output_type": "stream",
     "text": [
      "Sorted PointTree(root=Point(idx=0), num_nodes=4071).\n",
      "Apical dendrite is already aligned.\n",
      "Extended 184 nodes.\n",
      "Sorted PointTree(root=Point(idx=0), num_nodes=4255).\n"
     ]
    }
   ],
   "source": [
    "model.load_morphology('Hay_2011_sorted')"
   ]
  },
  {
   "cell_type": "code",
   "execution_count": 8,
   "metadata": {},
   "outputs": [
    {
     "data": {
      "text/plain": [
       "['K_Tst',\n",
       " 'K_Pst',\n",
       " 'SK_E2',\n",
       " 'Im',\n",
       " 'CaLVAst',\n",
       " 'Nap_Et2',\n",
       " 'NaTa_t',\n",
       " 'SKv3_1',\n",
       " 'CaHVA',\n",
       " 'Ih']"
      ]
     },
     "execution_count": 8,
     "metadata": {},
     "output_type": "execute_result"
    }
   ],
   "source": [
    "model.list_mechanisms()"
   ]
  },
  {
   "cell_type": "code",
   "execution_count": 9,
   "metadata": {},
   "outputs": [
    {
     "name": "stderr",
     "output_type": "stream",
     "text": [
      "/home/roman/anaconda3/envs/dendrotweakstest/bin/nrnivmodl:10: DeprecationWarning: pkg_resources is deprecated as an API. See https://setuptools.pypa.io/en/latest/pkg_resources.html\n",
      "  from pkg_resources import working_set\n",
      "Translating vecstim.mod into /home/roman/Documents/code/DendroTweaksLab/DendroTweaks/examples/Default/vecstim/x86_64/vecstim.c\n",
      "Notice: VERBATIM blocks are not thread safe\n"
     ]
    },
    {
     "name": "stdout",
     "output_type": "stream",
     "text": [
      "/home/roman/Documents/code/DendroTweaksLab/DendroTweaks/examples/Default/vecstim\n",
      "Mod files: \"./vecstim.mod\"\n",
      "\n",
      "Creating 'x86_64' directory for .o files.\n",
      "\n",
      " -> \u001b[32mCompiling\u001b[0m mod_func.cpp\n",
      " -> \u001b[32mNMODL\u001b[0m ../vecstim.mod\n",
      " -> \u001b[32mCompiling\u001b[0m vecstim.c\n",
      " => \u001b[32mLINKING\u001b[0m shared library ./libnrnmech.so\n",
      " => \u001b[32mLINKING\u001b[0m executable ./special LDFLAGS are:    -pthread\n",
      "Successfully created x86_64/special\n",
      "/home/roman/Documents/code/DendroTweaksLab/DendroTweaks/examples/Default/AMPA_NMDA\n",
      "Mod files: \"./AMPA_NMDA.mod\"\n",
      "\n",
      "Creating 'x86_64' directory for .o files.\n",
      "\n",
      " -> \u001b[32mCompiling\u001b[0m mod_func.cpp\n",
      " -> \u001b[32mNMODL\u001b[0m ../AMPA_NMDA.mod\n",
      " -> \u001b[32mCompiling\u001b[0m AMPA_NMDA.c\n"
     ]
    },
    {
     "name": "stderr",
     "output_type": "stream",
     "text": [
      "/home/roman/anaconda3/envs/dendrotweakstest/bin/nrnivmodl:10: DeprecationWarning: pkg_resources is deprecated as an API. See https://setuptools.pypa.io/en/latest/pkg_resources.html\n",
      "  from pkg_resources import working_set\n",
      "Translating AMPA_NMDA.mod into /home/roman/Documents/code/DendroTweaksLab/DendroTweaks/examples/Default/AMPA_NMDA/x86_64/AMPA_NMDA.c\n",
      "Thread Safe\n"
     ]
    },
    {
     "name": "stdout",
     "output_type": "stream",
     "text": [
      " => \u001b[32mLINKING\u001b[0m shared library ./libnrnmech.so\n",
      " => \u001b[32mLINKING\u001b[0m executable ./special LDFLAGS are:    -pthread\n",
      "Successfully created x86_64/special\n",
      "/home/roman/Documents/code/DendroTweaksLab/DendroTweaks/examples/Default/Leak\n",
      "Mod files: \"./Leak.mod\"\n",
      "\n",
      "Creating 'x86_64' directory for .o files.\n",
      "\n",
      " -> \u001b[32mCompiling\u001b[0m mod_func.cpp\n",
      " -> \u001b[32mNMODL\u001b[0m ../Leak.mod\n",
      " -> \u001b[32mCompiling\u001b[0m Leak.c\n"
     ]
    },
    {
     "name": "stderr",
     "output_type": "stream",
     "text": [
      "/home/roman/anaconda3/envs/dendrotweakstest/bin/nrnivmodl:10: DeprecationWarning: pkg_resources is deprecated as an API. See https://setuptools.pypa.io/en/latest/pkg_resources.html\n",
      "  from pkg_resources import working_set\n",
      "Translating Leak.mod into /home/roman/Documents/code/DendroTweaksLab/DendroTweaks/examples/Default/Leak/x86_64/Leak.c\n",
      "Thread Safe\n"
     ]
    },
    {
     "name": "stdout",
     "output_type": "stream",
     "text": [
      " => \u001b[32mLINKING\u001b[0m shared library ./libnrnmech.so\n",
      " => \u001b[32mLINKING\u001b[0m executable ./special LDFLAGS are:    -pthread\n",
      "Successfully created x86_64/special\n",
      "/home/roman/Documents/code/DendroTweaksLab/DendroTweaks/examples/Default/AMPA\n",
      "Mod files: \"./AMPA.mod\"\n",
      "\n",
      "Creating 'x86_64' directory for .o files.\n",
      "\n",
      " -> \u001b[32mCompiling\u001b[0m mod_func.cpp\n",
      " -> \u001b[32mNMODL\u001b[0m ../AMPA.mod\n",
      " -> \u001b[32mCompiling\u001b[0m AMPA.c\n"
     ]
    },
    {
     "name": "stderr",
     "output_type": "stream",
     "text": [
      "/home/roman/anaconda3/envs/dendrotweakstest/bin/nrnivmodl:10: DeprecationWarning: pkg_resources is deprecated as an API. See https://setuptools.pypa.io/en/latest/pkg_resources.html\n",
      "  from pkg_resources import working_set\n",
      "Translating AMPA.mod into /home/roman/Documents/code/DendroTweaksLab/DendroTweaks/examples/Default/AMPA/x86_64/AMPA.c\n",
      "Thread Safe\n"
     ]
    },
    {
     "name": "stdout",
     "output_type": "stream",
     "text": [
      " => \u001b[32mLINKING\u001b[0m shared library ./libnrnmech.so\n",
      " => \u001b[32mLINKING\u001b[0m executable ./special LDFLAGS are:    -pthread\n",
      "Successfully created x86_64/special\n",
      "/home/roman/Documents/code/DendroTweaksLab/DendroTweaks/examples/Default/GABAa\n",
      "Mod files: \"./GABAa.mod\"\n",
      "\n",
      "Creating 'x86_64' directory for .o files.\n",
      "\n",
      " -> \u001b[32mCompiling\u001b[0m mod_func.cpp\n",
      " -> \u001b[32mNMODL\u001b[0m ../GABAa.mod\n",
      " -> \u001b[32mCompiling\u001b[0m GABAa.c\n"
     ]
    },
    {
     "name": "stderr",
     "output_type": "stream",
     "text": [
      "/home/roman/anaconda3/envs/dendrotweakstest/bin/nrnivmodl:10: DeprecationWarning: pkg_resources is deprecated as an API. See https://setuptools.pypa.io/en/latest/pkg_resources.html\n",
      "  from pkg_resources import working_set\n",
      "Translating GABAa.mod into /home/roman/Documents/code/DendroTweaksLab/DendroTweaks/examples/Default/GABAa/x86_64/GABAa.c\n",
      "Thread Safe\n"
     ]
    },
    {
     "name": "stdout",
     "output_type": "stream",
     "text": [
      " => \u001b[32mLINKING\u001b[0m shared library ./libnrnmech.so\n",
      " => \u001b[32mLINKING\u001b[0m executable ./special LDFLAGS are:    -pthread\n",
      "Successfully created x86_64/special\n",
      "/home/roman/Documents/code/DendroTweaksLab/DendroTweaks/examples/Default/CaDyn\n",
      "Mod files: \"./CaDyn.mod\"\n",
      "\n",
      "Creating 'x86_64' directory for .o files.\n",
      "\n",
      " -> \u001b[32mCompiling\u001b[0m mod_func.cpp\n",
      " -> \u001b[32mNMODL\u001b[0m ../CaDyn.mod\n",
      " -> \u001b[32mCompiling\u001b[0m CaDyn.c\n"
     ]
    },
    {
     "name": "stderr",
     "output_type": "stream",
     "text": [
      "/home/roman/anaconda3/envs/dendrotweakstest/bin/nrnivmodl:10: DeprecationWarning: pkg_resources is deprecated as an API. See https://setuptools.pypa.io/en/latest/pkg_resources.html\n",
      "  from pkg_resources import working_set\n",
      "Translating CaDyn.mod into /home/roman/Documents/code/DendroTweaksLab/DendroTweaks/examples/Default/CaDyn/x86_64/CaDyn.c\n",
      "Thread Safe\n"
     ]
    },
    {
     "name": "stdout",
     "output_type": "stream",
     "text": [
      " => \u001b[32mLINKING\u001b[0m shared library ./libnrnmech.so\n",
      " => \u001b[32mLINKING\u001b[0m executable ./special LDFLAGS are:    -pthread\n",
      "Successfully created x86_64/special\n",
      "/home/roman/Documents/code/DendroTweaksLab/DendroTweaks/examples/Default/NMDA\n",
      "Mod files: \"./NMDA.mod\"\n",
      "\n",
      "Creating 'x86_64' directory for .o files.\n",
      "\n",
      " -> \u001b[32mCompiling\u001b[0m mod_func.cpp\n",
      " -> \u001b[32mNMODL\u001b[0m ../NMDA.mod\n",
      " -> \u001b[32mCompiling\u001b[0m NMDA.c\n"
     ]
    },
    {
     "name": "stderr",
     "output_type": "stream",
     "text": [
      "/home/roman/anaconda3/envs/dendrotweakstest/bin/nrnivmodl:10: DeprecationWarning: pkg_resources is deprecated as an API. See https://setuptools.pypa.io/en/latest/pkg_resources.html\n",
      "  from pkg_resources import working_set\n",
      "Translating NMDA.mod into /home/roman/Documents/code/DendroTweaksLab/DendroTweaks/examples/Default/NMDA/x86_64/NMDA.c\n",
      "Thread Safe\n"
     ]
    },
    {
     "name": "stdout",
     "output_type": "stream",
     "text": [
      " => \u001b[32mLINKING\u001b[0m shared library ./libnrnmech.so\n",
      " => \u001b[32mLINKING\u001b[0m executable ./special LDFLAGS are:    -pthread\n",
      "Successfully created x86_64/special\n"
     ]
    }
   ],
   "source": [
    "model.add_default_mechanisms(recompile=False)"
   ]
  },
  {
   "cell_type": "code",
   "execution_count": 10,
   "metadata": {},
   "outputs": [
    {
     "ename": "AttributeError",
     "evalue": "'list' object has no attribute 'strip'",
     "output_type": "error",
     "traceback": [
      "\u001b[31m---------------------------------------------------------------------------\u001b[39m",
      "\u001b[31mAttributeError\u001b[39m                            Traceback (most recent call last)",
      "\u001b[36mCell\u001b[39m\u001b[36m \u001b[39m\u001b[32mIn[10]\u001b[39m\u001b[32m, line 1\u001b[39m\n\u001b[32m----> \u001b[39m\u001b[32m1\u001b[39m \u001b[43mmodel\u001b[49m\u001b[43m.\u001b[49m\u001b[43madd_mechanisms\u001b[49m\u001b[43m(\u001b[49m\u001b[43mrecompile\u001b[49m\u001b[43m=\u001b[49m\u001b[38;5;28;43;01mTrue\u001b[39;49;00m\u001b[43m)\u001b[49m\n",
      "\u001b[36mFile \u001b[39m\u001b[32m~/Documents/code/DendroTweaksLab/DendroTweaks/src/dendrotweaks/model.py:539\u001b[39m, in \u001b[36mModel.add_mechanisms\u001b[39m\u001b[34m(self, dir_name, recompile)\u001b[39m\n\u001b[32m    537\u001b[39m \u001b[38;5;66;03m# Create Mechanism objects and add them to the model\u001b[39;00m\n\u001b[32m    538\u001b[39m \u001b[38;5;28;01mfor\u001b[39;00m mechanism_name \u001b[38;5;129;01min\u001b[39;00m \u001b[38;5;28mself\u001b[39m.path_manager.list_files(dir_name, extension=\u001b[33m'\u001b[39m\u001b[33mmod\u001b[39m\u001b[33m'\u001b[39m):\n\u001b[32m--> \u001b[39m\u001b[32m539\u001b[39m     \u001b[38;5;28;43mself\u001b[39;49m\u001b[43m.\u001b[49m\u001b[43madd_mechanism\u001b[49m\u001b[43m(\u001b[49m\u001b[43mmechanism_name\u001b[49m\u001b[43m,\u001b[49m\u001b[43m \u001b[49m\n\u001b[32m    540\u001b[39m \u001b[43m                       \u001b[49m\u001b[43mload\u001b[49m\u001b[43m=\u001b[49m\u001b[38;5;28;43;01mTrue\u001b[39;49;00m\u001b[43m,\u001b[49m\u001b[43m \u001b[49m\n\u001b[32m    541\u001b[39m \u001b[43m                       \u001b[49m\u001b[43mdir_name\u001b[49m\u001b[43m=\u001b[49m\u001b[43mdir_name\u001b[49m\u001b[43m,\u001b[49m\u001b[43m \u001b[49m\n\u001b[32m    542\u001b[39m \u001b[43m                       \u001b[49m\u001b[43mrecompile\u001b[49m\u001b[43m=\u001b[49m\u001b[43mrecompile\u001b[49m\u001b[43m)\u001b[49m\n",
      "\u001b[36mFile \u001b[39m\u001b[32m~/Documents/code/DendroTweaksLab/DendroTweaks/src/dendrotweaks/model.py:566\u001b[39m, in \u001b[36mModel.add_mechanism\u001b[39m\u001b[34m(self, mechanism_name, python_template_name, load, dir_name, recompile)\u001b[39m\n\u001b[32m    550\u001b[39m \u001b[38;5;250m\u001b[39m\u001b[33;03m\"\"\"\u001b[39;00m\n\u001b[32m    551\u001b[39m \u001b[33;03mCreate a Mechanism object from the MOD file (or LeakChannel).\u001b[39;00m\n\u001b[32m    552\u001b[39m \n\u001b[32m   (...)\u001b[39m\u001b[32m    560\u001b[39m \u001b[33;03m    Whether to load the mechanism using neuron.load_mechanisms.\u001b[39;00m\n\u001b[32m    561\u001b[39m \u001b[33;03m\"\"\"\u001b[39;00m\n\u001b[32m    562\u001b[39m paths = \u001b[38;5;28mself\u001b[39m.path_manager.get_channel_paths(\n\u001b[32m    563\u001b[39m     mechanism_name, \n\u001b[32m    564\u001b[39m     python_template_name=python_template_name\n\u001b[32m    565\u001b[39m )\n\u001b[32m--> \u001b[39m\u001b[32m566\u001b[39m mech = \u001b[43mcreate_channel\u001b[49m\u001b[43m(\u001b[49m\u001b[43m*\u001b[49m\u001b[43m*\u001b[49m\u001b[43mpaths\u001b[49m\u001b[43m)\u001b[49m\n\u001b[32m    567\u001b[39m \u001b[38;5;66;03m# Add the mechanism to the model\u001b[39;00m\n\u001b[32m    568\u001b[39m \u001b[38;5;28mself\u001b[39m.mechanisms[mech.name] = mech\n",
      "\u001b[36mFile \u001b[39m\u001b[32m~/Documents/code/DendroTweaksLab/DendroTweaks/src/dendrotweaks/membrane/io/factories.py:36\u001b[39m, in \u001b[36mcreate_channel\u001b[39m\u001b[34m(path_to_mod_file, path_to_python_file, path_to_python_template, verbose)\u001b[39m\n\u001b[32m     34\u001b[39m \u001b[38;5;66;03m# Convert mod to python\u001b[39;00m\n\u001b[32m     35\u001b[39m converter = MODFileConverter()\n\u001b[32m---> \u001b[39m\u001b[32m36\u001b[39m \u001b[43mconverter\u001b[49m\u001b[43m.\u001b[49m\u001b[43mconvert\u001b[49m\u001b[43m(\u001b[49m\u001b[43mpath_to_mod_file\u001b[49m\u001b[43m,\u001b[49m\u001b[43m \u001b[49m\n\u001b[32m     37\u001b[39m \u001b[43m                  \u001b[49m\u001b[43mpath_to_python_file\u001b[49m\u001b[43m,\u001b[49m\u001b[43m \u001b[49m\n\u001b[32m     38\u001b[39m \u001b[43m                  \u001b[49m\u001b[43mpath_to_python_template\u001b[49m\u001b[43m,\u001b[49m\n\u001b[32m     39\u001b[39m \u001b[43m                  \u001b[49m\u001b[43mverbose\u001b[49m\u001b[43m=\u001b[49m\u001b[43mverbose\u001b[49m\u001b[43m)\u001b[49m\n\u001b[32m     41\u001b[39m \u001b[38;5;66;03m# Import and instantiate the channel\u001b[39;00m\n\u001b[32m     42\u001b[39m class_name = os.path.basename(path_to_python_file).replace(\u001b[33m'\u001b[39m\u001b[33m.py\u001b[39m\u001b[33m'\u001b[39m, \u001b[33m'\u001b[39m\u001b[33m'\u001b[39m)\n",
      "\u001b[36mFile \u001b[39m\u001b[32m~/Documents/code/DendroTweaksLab/DendroTweaks/src/dendrotweaks/membrane/io/converter.py:107\u001b[39m, in \u001b[36mMODFileConverter.convert\u001b[39m\u001b[34m(self, path_to_mod_file, path_to_python_file, path_to_python_template, path_to_json_file, verbose)\u001b[39m\n\u001b[32m    104\u001b[39m     \u001b[38;5;28mself\u001b[39m.parser.write_file(path_to_json_file)\n\u001b[32m    106\u001b[39m \u001b[38;5;28;01mif\u001b[39;00m verbose: \u001b[38;5;28mprint\u001b[39m(\u001b[33mf\u001b[39m\u001b[33m\"\u001b[39m\u001b[38;5;130;01m\\n\u001b[39;00m\u001b[33mGENERATING\u001b[39m\u001b[33m\"\u001b[39m)\n\u001b[32m--> \u001b[39m\u001b[32m107\u001b[39m \u001b[38;5;28;43mself\u001b[39;49m\u001b[43m.\u001b[49m\u001b[43mgenerator\u001b[49m\u001b[43m.\u001b[49m\u001b[43mgenerate\u001b[49m\u001b[43m(\u001b[49m\u001b[43mast\u001b[49m\u001b[43m,\u001b[49m\u001b[43m \u001b[49m\u001b[43mpath_to_python_template\u001b[49m\u001b[43m)\u001b[49m\n\u001b[32m    108\u001b[39m \u001b[38;5;28mself\u001b[39m.generator.write_file(path_to_python_file)\n",
      "\u001b[36mFile \u001b[39m\u001b[32m~/Documents/code/DendroTweaksLab/DendroTweaks/src/dendrotweaks/membrane/io/code_generators.py:67\u001b[39m, in \u001b[36mPythonCodeGenerator.generate\u001b[39m\u001b[34m(self, ast, path_to_template)\u001b[39m\n\u001b[32m     62\u001b[39m template = Template(template_string)\n\u001b[32m     63\u001b[39m \u001b[38;5;66;03m# template = env.get_template(self.path_to_template)\u001b[39;00m\n\u001b[32m     64\u001b[39m \n\u001b[32m     65\u001b[39m \u001b[38;5;66;03m# Define the variables for the template\u001b[39;00m\n\u001b[32m     66\u001b[39m variables = {\n\u001b[32m---> \u001b[39m\u001b[32m67\u001b[39m     \u001b[33m'\u001b[39m\u001b[33mtitle\u001b[39m\u001b[33m'\u001b[39m: \u001b[43mast\u001b[49m\u001b[43m.\u001b[49m\u001b[43mtitle\u001b[49m,\n\u001b[32m     68\u001b[39m     \u001b[38;5;66;03m# 'comment': ast.comment,\u001b[39;00m\n\u001b[32m     69\u001b[39m     \u001b[33m'\u001b[39m\u001b[33mclass_name\u001b[39m\u001b[33m'\u001b[39m: ast.suffix,\n\u001b[32m     70\u001b[39m     \u001b[33m'\u001b[39m\u001b[33msuffix\u001b[39m\u001b[33m'\u001b[39m: ast.suffix,\n\u001b[32m     71\u001b[39m     \u001b[33m'\u001b[39m\u001b[33mion\u001b[39m\u001b[33m'\u001b[39m: ast.ion,\n\u001b[32m     72\u001b[39m     \u001b[33m'\u001b[39m\u001b[33mindependent_var_name\u001b[39m\u001b[33m'\u001b[39m: ast.independent_var_name,\n\u001b[32m     73\u001b[39m     \u001b[33m'\u001b[39m\u001b[33mchannel_params\u001b[39m\u001b[33m'\u001b[39m: ast.params,\n\u001b[32m     74\u001b[39m     \u001b[33m'\u001b[39m\u001b[33mrange_params\u001b[39m\u001b[33m'\u001b[39m: ast.range_params,\n\u001b[32m     75\u001b[39m     \u001b[33m'\u001b[39m\u001b[33mstate_vars\u001b[39m\u001b[33m'\u001b[39m: ast.state_vars,\n\u001b[32m     76\u001b[39m     \u001b[33m'\u001b[39m\u001b[33mfunctions\u001b[39m\u001b[33m'\u001b[39m: \u001b[38;5;28mself\u001b[39m._generate_functions(ast),\n\u001b[32m     77\u001b[39m     \u001b[33m'\u001b[39m\u001b[33mprocedures\u001b[39m\u001b[33m'\u001b[39m: \u001b[38;5;28mself\u001b[39m._generate_procedures(ast),\n\u001b[32m     78\u001b[39m     \u001b[33m'\u001b[39m\u001b[33mprocedure_calls\u001b[39m\u001b[33m'\u001b[39m: \u001b[38;5;28mself\u001b[39m._generate_procedure_calls(ast),\n\u001b[32m     79\u001b[39m     \u001b[33m'\u001b[39m\u001b[33mE_ion\u001b[39m\u001b[33m'\u001b[39m: EQUILIBRIUM_POTENTIALS.get(ast.ion, \u001b[38;5;28;01mNone\u001b[39;00m)\n\u001b[32m     80\u001b[39m }\n\u001b[32m     82\u001b[39m \u001b[38;5;66;03m# Render the template with the variables\u001b[39;00m\n\u001b[32m     83\u001b[39m content = template.render(variables)\n",
      "\u001b[36mFile \u001b[39m\u001b[32m~/Documents/code/DendroTweaksLab/DendroTweaks/src/dendrotweaks/membrane/io/ast.py:51\u001b[39m, in \u001b[36mAbstracSyntaxTree.title\u001b[39m\u001b[34m(self)\u001b[39m\n\u001b[32m     49\u001b[39m \u001b[38;5;129m@property\u001b[39m\n\u001b[32m     50\u001b[39m \u001b[38;5;28;01mdef\u001b[39;00m\u001b[38;5;250m \u001b[39m\u001b[34mtitle\u001b[39m(\u001b[38;5;28mself\u001b[39m):\n\u001b[32m---> \u001b[39m\u001b[32m51\u001b[39m     \u001b[38;5;28;01mreturn\u001b[39;00m \u001b[38;5;28;43mself\u001b[39;49m\u001b[43m[\u001b[49m\u001b[33;43m'\u001b[39;49m\u001b[33;43mTITLE\u001b[39;49m\u001b[33;43m'\u001b[39;49m\u001b[43m]\u001b[49m\u001b[43m.\u001b[49m\u001b[43mstrip\u001b[49m()\n",
      "\u001b[31mAttributeError\u001b[39m: 'list' object has no attribute 'strip'"
     ]
    }
   ],
   "source": [
    "model.add_mechanisms(recompile=True)"
   ]
  }
 ],
 "metadata": {
  "kernelspec": {
   "display_name": "dendrotweakstest",
   "language": "python",
   "name": "python3"
  },
  "language_info": {
   "codemirror_mode": {
    "name": "ipython",
    "version": 3
   },
   "file_extension": ".py",
   "mimetype": "text/x-python",
   "name": "python",
   "nbconvert_exporter": "python",
   "pygments_lexer": "ipython3",
   "version": "3.11.11"
  }
 },
 "nbformat": 4,
 "nbformat_minor": 2
}
