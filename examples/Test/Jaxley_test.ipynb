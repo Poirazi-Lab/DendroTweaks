{
 "cells": [
  {
   "cell_type": "code",
   "execution_count": 1,
   "id": "43a6a3a2",
   "metadata": {},
   "outputs": [
    {
     "data": {
      "text/html": [
       "<div>\n",
       "<style scoped>\n",
       "    .dataframe tbody tr th:only-of-type {\n",
       "        vertical-align: middle;\n",
       "    }\n",
       "\n",
       "    .dataframe tbody tr th {\n",
       "        vertical-align: top;\n",
       "    }\n",
       "\n",
       "    .dataframe thead th {\n",
       "        text-align: right;\n",
       "    }\n",
       "</style>\n",
       "<table border=\"1\" class=\"dataframe\">\n",
       "  <thead>\n",
       "    <tr style=\"text-align: right;\">\n",
       "      <th></th>\n",
       "      <th>local_cell_index</th>\n",
       "      <th>local_branch_index</th>\n",
       "      <th>local_comp_index</th>\n",
       "      <th>length</th>\n",
       "      <th>radius</th>\n",
       "      <th>axial_resistivity</th>\n",
       "      <th>capacitance</th>\n",
       "      <th>v</th>\n",
       "      <th>global_cell_index</th>\n",
       "      <th>global_branch_index</th>\n",
       "      <th>global_comp_index</th>\n",
       "      <th>controlled_by_param</th>\n",
       "      <th>soma</th>\n",
       "      <th>custom</th>\n",
       "    </tr>\n",
       "  </thead>\n",
       "  <tbody>\n",
       "    <tr>\n",
       "      <th>0</th>\n",
       "      <td>0</td>\n",
       "      <td>0</td>\n",
       "      <td>0</td>\n",
       "      <td>0.1</td>\n",
       "      <td>10.0</td>\n",
       "      <td>5000.0</td>\n",
       "      <td>1.0</td>\n",
       "      <td>-70.0</td>\n",
       "      <td>0</td>\n",
       "      <td>0</td>\n",
       "      <td>0</td>\n",
       "      <td>0</td>\n",
       "      <td>False</td>\n",
       "      <td>True</td>\n",
       "    </tr>\n",
       "    <tr>\n",
       "      <th>1</th>\n",
       "      <td>0</td>\n",
       "      <td>1</td>\n",
       "      <td>0</td>\n",
       "      <td>10.0</td>\n",
       "      <td>10.0</td>\n",
       "      <td>5000.0</td>\n",
       "      <td>1.0</td>\n",
       "      <td>-70.0</td>\n",
       "      <td>0</td>\n",
       "      <td>1</td>\n",
       "      <td>1</td>\n",
       "      <td>0</td>\n",
       "      <td>True</td>\n",
       "      <td>False</td>\n",
       "    </tr>\n",
       "    <tr>\n",
       "      <th>2</th>\n",
       "      <td>0</td>\n",
       "      <td>2</td>\n",
       "      <td>0</td>\n",
       "      <td>10.0</td>\n",
       "      <td>10.0</td>\n",
       "      <td>5000.0</td>\n",
       "      <td>1.0</td>\n",
       "      <td>-70.0</td>\n",
       "      <td>0</td>\n",
       "      <td>2</td>\n",
       "      <td>2</td>\n",
       "      <td>0</td>\n",
       "      <td>True</td>\n",
       "      <td>False</td>\n",
       "    </tr>\n",
       "  </tbody>\n",
       "</table>\n",
       "</div>"
      ],
      "text/plain": [
       "   local_cell_index  local_branch_index  local_comp_index  length  radius  \\\n",
       "0                 0                   0                 0     0.1    10.0   \n",
       "1                 0                   1                 0    10.0    10.0   \n",
       "2                 0                   2                 0    10.0    10.0   \n",
       "\n",
       "   axial_resistivity  capacitance     v  global_cell_index  \\\n",
       "0             5000.0          1.0 -70.0                  0   \n",
       "1             5000.0          1.0 -70.0                  0   \n",
       "2             5000.0          1.0 -70.0                  0   \n",
       "\n",
       "   global_branch_index  global_comp_index  controlled_by_param   soma  custom  \n",
       "0                    0                  0                    0  False    True  \n",
       "1                    1                  1                    0   True   False  \n",
       "2                    2                  2                    0   True   False  "
      ]
     },
     "execution_count": 1,
     "metadata": {},
     "output_type": "execute_result"
    }
   ],
   "source": [
    "import jaxley as jx\n",
    "import jax.numpy as jnp\n",
    "import numpy as np\n",
    "\n",
    "cell = jx.read_swc(\"morphology/point.swc\", ncomp=1, assign_groups=True)\n",
    "cell.xyzr\n",
    "cell.nodes"
   ]
  },
  {
   "cell_type": "code",
   "execution_count": 2,
   "id": "175b268b",
   "metadata": {},
   "outputs": [],
   "source": [
    "duration = 1000\n",
    "dt = 0.025"
   ]
  },
  {
   "cell_type": "code",
   "execution_count": 3,
   "id": "5fdb2d8f",
   "metadata": {},
   "outputs": [
    {
     "name": "stdout",
     "output_type": "stream",
     "text": [
      "Added 1 external_states. See `.externals` for details.\n"
     ]
    }
   ],
   "source": [
    "current = jx.step_current(i_delay=100, i_dur=800, i_amp=0.1, delta_t=dt, t_max=duration)\n",
    "cell[0].loc(0.5).stimulate(current)"
   ]
  },
  {
   "cell_type": "code",
   "execution_count": 4,
   "id": "7b390da7",
   "metadata": {},
   "outputs": [
    {
     "name": "stdout",
     "output_type": "stream",
     "text": [
      "Added 1 recordings. See `.recordings` for details.\n"
     ]
    }
   ],
   "source": [
    "cell[0].loc(0.5).record('v')"
   ]
  },
  {
   "cell_type": "code",
   "execution_count": 5,
   "id": "f2ce1c30",
   "metadata": {},
   "outputs": [],
   "source": [
    "vs = jnp.squeeze(\n",
    "            jx.integrate(\n",
    "                module=cell, \n",
    "                params=[],\n",
    "                param_state=None,\n",
    "                voltage_solver='jax.sparse',\n",
    "                delta_t=dt,\n",
    "                t_max=duration\n",
    "            ).block_until_ready()\n",
    "        )\n",
    "t = np.arange(0, duration + 2*dt, dt)[:-1]"
   ]
  },
  {
   "cell_type": "code",
   "execution_count": 7,
   "id": "47ff4529",
   "metadata": {},
   "outputs": [
    {
     "data": {
      "text/plain": [
       "[<matplotlib.lines.Line2D at 0x7f6d80234ad0>]"
      ]
     },
     "execution_count": 7,
     "metadata": {},
     "output_type": "execute_result"
    },
    {
     "data": {
      "image/png": "[encoded data removed]",
      "text/plain": [
       "<Figure size 640x480 with 1 Axes>"
      ]
     },
     "metadata": {},
     "output_type": "display_data"
    }
   ],
   "source": [
    "import matplotlib.pyplot as plt\n",
    "plt.plot(t, vs)"
   ]
  }
 ],
 "metadata": {
  "kernelspec": {
   "display_name": "dendrotweaks",
   "language": "python",
   "name": "python3"
  },
  "language_info": {
   "codemirror_mode": {
    "name": "ipython",
    "version": 3
   },
   "file_extension": ".py",
   "mimetype": "text/x-python",
   "name": "python",
   "nbconvert_exporter": "python",
   "pygments_lexer": "ipython3",
   "version": "3.11.11"
  }
 },
 "nbformat": 4,
 "nbformat_minor": 5
}
