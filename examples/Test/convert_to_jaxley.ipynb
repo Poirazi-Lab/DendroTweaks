{
 "cells": [
  {
   "cell_type": "code",
   "execution_count": 1,
   "metadata": {},
   "outputs": [],
   "source": [
    "from dendrotweaks.biophys.io import MODFileConverter"
   ]
  },
  {
   "cell_type": "code",
   "execution_count": 2,
   "metadata": {},
   "outputs": [],
   "source": [
    "converter = MODFileConverter()"
   ]
  },
  {
   "cell_type": "code",
   "execution_count": 3,
   "metadata": {},
   "outputs": [],
   "source": [
    "import os\n",
    "path_to_mod_file = os.path.join(os.getcwd(), 'biophys', 'mod', 'stdNa.mod')\n",
    "path_to_python = os.path.join(os.getcwd(), 'biophys', 'python', 'stdNajx.py')\n",
    "path_to_template = os.path.join(os.getcwd(), '..', 'Templates', 'jaxley.py')"
   ]
  },
  {
   "cell_type": "code",
   "execution_count": 4,
   "metadata": {},
   "outputs": [
    {
     "name": "stdout",
     "output_type": "stream",
     "text": [
      "Saved content to /home/roman/Documents/code/DendroTweaksLab/DendroTweaks/examples/Test/biophys/python/stdNajx.py\n"
     ]
    }
   ],
   "source": [
    "converter.convert(path_to_mod_file, path_to_python, path_to_template)"
   ]
  }
 ],
 "metadata": {
  "kernelspec": {
   "display_name": "dendrotweakstest",
   "language": "python",
   "name": "python3"
  },
  "language_info": {
   "codemirror_mode": {
    "name": "ipython",
    "version": 3
   },
   "file_extension": ".py",
   "mimetype": "text/x-python",
   "name": "python",
   "nbconvert_exporter": "python",
   "pygments_lexer": "ipython3",
   "version": "3.11.11"
  }
 },
 "nbformat": 4,
 "nbformat_minor": 2
}
