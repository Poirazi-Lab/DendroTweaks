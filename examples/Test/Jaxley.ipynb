{
 "cells": [
  {
   "cell_type": "code",
   "execution_count": 1,
   "metadata": {},
   "outputs": [],
   "source": [
    "import numpy as np\n",
    "import matplotlib.pyplot as plt\n",
    "import os"
   ]
  },
  {
   "cell_type": "code",
   "execution_count": 2,
   "metadata": {},
   "outputs": [
    {
     "data": {
      "text/plain": [
       "'0.4.2'"
      ]
     },
     "execution_count": 2,
     "metadata": {},
     "output_type": "execute_result"
    }
   ],
   "source": [
    "import dendrotweaks as dd\n",
    "dd.__version__"
   ]
  },
  {
   "cell_type": "code",
   "execution_count": 3,
   "metadata": {},
   "outputs": [],
   "source": [
    "dd.apply_dark_theme()"
   ]
  },
  {
   "cell_type": "code",
   "execution_count": 4,
   "metadata": {},
   "outputs": [
    {
     "name": "stdout",
     "output_type": "stream",
     "text": [
      "Path to model: /home/roman/Documents/code/DendroTweaksLab/DendroTweaks/examples/Test\n",
      "Path to data: /home/roman/Documents/code/DendroTweaksLab/DendroTweaks/examples\n"
     ]
    }
   ],
   "source": [
    "path_to_model = os.getcwd()\n",
    "print(f'Path to model: {path_to_model}')\n",
    "path_to_data = os.path.dirname(path_to_model)\n",
    "print(f'Path to data: {path_to_data}')"
   ]
  },
  {
   "cell_type": "code",
   "execution_count": 5,
   "metadata": {},
   "outputs": [],
   "source": [
    "model = dd.Model(path_to_model, simulator_name='Jaxley')"
   ]
  },
  {
   "cell_type": "code",
   "execution_count": 6,
   "metadata": {},
   "outputs": [
    {
     "name": "stderr",
     "output_type": "stream",
     "text": [
      "An NVIDIA GPU may be present on this machine, but a CUDA-enabled jaxlib is not installed. Falling back to cpu.\n"
     ]
    },
    {
     "name": "stdout",
     "output_type": "stream",
     "text": [
      "Sorted PointTree(root=Point(idx=0), num_nodes=17).\n",
      "Apical dendrite is already aligned.\n",
      "Extended 6 nodes.\n",
      "Sorted PointTree(root=Point(idx=0), num_nodes=23).\n"
     ]
    }
   ],
   "source": [
    "model.load_morphology(file_name='ball-and-stick', soma_notation='3PS')"
   ]
  },
  {
   "cell_type": "code",
   "execution_count": 7,
   "metadata": {},
   "outputs": [
    {
     "name": "stdout",
     "output_type": "stream",
     "text": [
      "parent |   idx\n",
      "---------------\n",
      "    -1 |   •0\n",
      "     0 |   ├─•1\n",
      "     0 |   ├─•2\n",
      "     0 |   └─•3\n",
      "     3 |     ├─•4\n",
      "     4 |     │ ├─•5\n",
      "     4 |     │ └─•6\n",
      "     3 |     └─•7\n",
      "     7 |       ├─•8\n",
      "     7 |       └─•9\n"
     ]
    }
   ],
   "source": [
    "model.sec_tree.topology()"
   ]
  },
  {
   "cell_type": "code",
   "execution_count": 8,
   "metadata": {},
   "outputs": [
    {
     "data": {
      "image/png": "[encoded data removed]",
      "text/plain": [
       "<Figure size 500x500 with 1 Axes>"
      ]
     },
     "metadata": {},
     "output_type": "display_data"
    }
   ],
   "source": [
    "fig, ax = plt.subplots(figsize=(5, 5))\n",
    "model.sec_tree.plot(ax=ax, annotate=True, show_points=True)"
   ]
  },
  {
   "cell_type": "code",
   "execution_count": 9,
   "metadata": {},
   "outputs": [
    {
     "name": "stdout",
     "output_type": "stream",
     "text": [
      "parent |   idx\n",
      "---------------\n",
      "    -1 |   •0\n",
      "     0 |   ├─•1\n",
      "     1 |   │ └─•2\n",
      "     2 |   │   └─•3\n",
      "     0 |   ├─•4\n",
      "     4 |   │ └─•5\n",
      "     5 |   │   └─•6\n",
      "     0 |   └─•7\n",
      "     7 |     └─•8\n",
      "     8 |       └─•9\n",
      "     9 |         └─•10\n",
      "    10 |           └─•11\n",
      "    11 |             ├─•12\n",
      "    12 |             │ └─•13\n",
      "    13 |             │   └─•14\n",
      "    14 |             │     ├─•15\n",
      "    15 |             │     │ └─•16\n",
      "    16 |             │     │   └─•17\n",
      "    14 |             │     └─•18\n",
      "    18 |             │       └─•19\n",
      "    19 |             │         └─•20\n",
      "    11 |             └─•21\n",
      "    21 |               └─•22\n",
      "    22 |                 └─•23\n",
      "    23 |                   ├─•24\n",
      "    24 |                   │ └─•25\n",
      "    25 |                   │   └─•26\n",
      "    23 |                   └─•27\n",
      "    27 |                     └─•28\n",
      "    28 |                       └─•29\n"
     ]
    }
   ],
   "source": [
    "model.seg_tree.topology()"
   ]
  },
  {
   "cell_type": "code",
   "execution_count": 10,
   "metadata": {},
   "outputs": [
    {
     "data": {
      "text/plain": [
       "30"
      ]
     },
     "execution_count": 10,
     "metadata": {},
     "output_type": "execute_result"
    }
   ],
   "source": [
    "len(model.seg_tree)"
   ]
  },
  {
   "cell_type": "code",
   "execution_count": 11,
   "metadata": {},
   "outputs": [],
   "source": [
    "# model._cell.nodes"
   ]
  },
  {
   "cell_type": "code",
   "execution_count": 12,
   "metadata": {},
   "outputs": [],
   "source": [
    "model.add_default_mechanisms()"
   ]
  },
  {
   "cell_type": "code",
   "execution_count": 13,
   "metadata": {},
   "outputs": [
    {
     "name": "stdout",
     "output_type": "stream",
     "text": [
      "Saved content to /home/roman/Documents/code/DendroTweaksLab/DendroTweaks/examples/Test/biophys/python/stdNa.py\n",
      "Saved content to /home/roman/Documents/code/DendroTweaksLab/DendroTweaks/examples/Test/biophys/python/stdKv.py\n"
     ]
    }
   ],
   "source": [
    "if model.simulator_name == 'NEURON':\n",
    "    model.add_mechanism('stdNa')\n",
    "    model.add_mechanism('stdKv')\n",
    "    \n",
    "elif model.simulator_name == 'Jaxley':\n",
    "    model.add_mechanism(\n",
    "        'stdNa',\n",
    "        python_template_name='jaxley',\n",
    "        load=False,\n",
    "        dir_name='mod',\n",
    "        recompile=False\n",
    "    )\n",
    "\n",
    "    model.add_mechanism(\n",
    "        'stdKv',\n",
    "        python_template_name='jaxley',\n",
    "        load=False,\n",
    "        dir_name='mod',\n",
    "        recompile=False\n",
    "    )"
   ]
  },
  {
   "cell_type": "code",
   "execution_count": 14,
   "metadata": {},
   "outputs": [
    {
     "data": {
      "text/plain": [
       "{'Leak': <Mechanism(Leak)>,\n",
       " 'stdNa': <Mechanism(stdNa)>,\n",
       " 'stdKv': <Mechanism(stdKv)>}"
      ]
     },
     "execution_count": 14,
     "metadata": {},
     "output_type": "execute_result"
    }
   ],
   "source": [
    "model.mechanisms"
   ]
  },
  {
   "cell_type": "code",
   "execution_count": 15,
   "metadata": {},
   "outputs": [
    {
     "data": {
      "text/plain": [
       "{'apic': <Domain(apic, 7 sections)>,\n",
       " 'dend': <Domain(dend, 2 sections)>,\n",
       " 'soma': <Domain(soma, 1 sections)>}"
      ]
     },
     "execution_count": 15,
     "metadata": {},
     "output_type": "execute_result"
    }
   ],
   "source": [
    "model.domains"
   ]
  },
  {
   "cell_type": "code",
   "execution_count": 16,
   "metadata": {},
   "outputs": [
    {
     "data": {
      "text/plain": [
       "{'apic': set(), 'dend': set(), 'soma': set()}"
      ]
     },
     "execution_count": 16,
     "metadata": {},
     "output_type": "execute_result"
    }
   ],
   "source": [
    "model.domains_to_mechs"
   ]
  },
  {
   "cell_type": "code",
   "execution_count": 17,
   "metadata": {},
   "outputs": [],
   "source": [
    "for domain_name in model.domains:\n",
    "    model.insert_mechanism('Leak', domain_name=domain_name, distribute=False)"
   ]
  },
  {
   "cell_type": "code",
   "execution_count": 18,
   "metadata": {},
   "outputs": [],
   "source": [
    "for domain_name in model.domains:\n",
    "    try:\n",
    "        model.insert_mechanism('stdNa', domain_name=domain_name, distribute=False)\n",
    "    except:\n",
    "        print(f'Failed to insert stdNa into {domain_name} domain')\n",
    "        pass"
   ]
  },
  {
   "cell_type": "code",
   "execution_count": 19,
   "metadata": {},
   "outputs": [],
   "source": [
    "for domain_name in model.domains:\n",
    "    try:\n",
    "        model.insert_mechanism('stdKv', domain_name=domain_name, distribute=False)\n",
    "    except:\n",
    "        print(f'Failed to insert stdKv into {domain_name} domain')\n",
    "        pass"
   ]
  },
  {
   "cell_type": "code",
   "execution_count": 20,
   "metadata": {},
   "outputs": [],
   "source": [
    "model.set_param('gbar_Leak', value=0.0001) #0.0001\n",
    "model.set_param('gbar_stdNa', value=0.03)\n",
    "model.set_param('gbar_stdNa', group_name='somatic', value=0.05)\n",
    "model.set_param('gbar_stdKv', value=0.003)\n",
    "model.set_param('gbar_stdKv', group_name='somatic', value=0.005)\n",
    "model.set_param('Ra', value=100)\n",
    "model.set_param('cm', value=1)\n",
    "# model.set_param('gbar_Leak',\n",
    "#     distr_type='linear', slope=0.000_01, intercept=0.005)"
   ]
  },
  {
   "cell_type": "code",
   "execution_count": 21,
   "metadata": {},
   "outputs": [
    {
     "name": "stdout",
     "output_type": "stream",
     "text": [
      "Error distributing parameter 'ena': \"Key 'ena' not found in nodes or edges\"\n",
      "Error distributing parameter 'ek': \"Key 'ek' not found in nodes or edges\"\n"
     ]
    }
   ],
   "source": [
    "model.distribute_all()"
   ]
  },
  {
   "cell_type": "code",
   "execution_count": 22,
   "metadata": {},
   "outputs": [
    {
     "data": {
      "text/html": [
       "<div>\n",
       "<style scoped>\n",
       "    .dataframe tbody tr th:only-of-type {\n",
       "        vertical-align: middle;\n",
       "    }\n",
       "\n",
       "    .dataframe tbody tr th {\n",
       "        vertical-align: top;\n",
       "    }\n",
       "\n",
       "    .dataframe thead th {\n",
       "        text-align: right;\n",
       "    }\n",
       "</style>\n",
       "<table border=\"1\" class=\"dataframe\">\n",
       "  <thead>\n",
       "    <tr style=\"text-align: right;\">\n",
       "      <th></th>\n",
       "      <th>Mechanism</th>\n",
       "      <th>Parameter</th>\n",
       "      <th>Group</th>\n",
       "      <th>Distribution</th>\n",
       "      <th>Distribution params</th>\n",
       "    </tr>\n",
       "  </thead>\n",
       "  <tbody>\n",
       "    <tr>\n",
       "      <th>0</th>\n",
       "      <td>Independent</td>\n",
       "      <td>cm</td>\n",
       "      <td>all</td>\n",
       "      <td>constant</td>\n",
       "      <td>{'value': 1}</td>\n",
       "    </tr>\n",
       "    <tr>\n",
       "      <th>1</th>\n",
       "      <td>Independent</td>\n",
       "      <td>Ra</td>\n",
       "      <td>all</td>\n",
       "      <td>constant</td>\n",
       "      <td>{'value': 100}</td>\n",
       "    </tr>\n",
       "    <tr>\n",
       "      <th>2</th>\n",
       "      <td>Independent</td>\n",
       "      <td>ena</td>\n",
       "      <td>all</td>\n",
       "      <td>constant</td>\n",
       "      <td>{'value': 50}</td>\n",
       "    </tr>\n",
       "    <tr>\n",
       "      <th>3</th>\n",
       "      <td>Independent</td>\n",
       "      <td>ek</td>\n",
       "      <td>all</td>\n",
       "      <td>constant</td>\n",
       "      <td>{'value': -77}</td>\n",
       "    </tr>\n",
       "    <tr>\n",
       "      <th>4</th>\n",
       "      <td>Leak</td>\n",
       "      <td>gbar_Leak</td>\n",
       "      <td>all</td>\n",
       "      <td>constant</td>\n",
       "      <td>{'value': 0.0001}</td>\n",
       "    </tr>\n",
       "    <tr>\n",
       "      <th>5</th>\n",
       "      <td>Leak</td>\n",
       "      <td>e_Leak</td>\n",
       "      <td>all</td>\n",
       "      <td>constant</td>\n",
       "      <td>{'value': -70.0}</td>\n",
       "    </tr>\n",
       "    <tr>\n",
       "      <th>6</th>\n",
       "      <td>stdNa</td>\n",
       "      <td>vhalf_m_stdNa</td>\n",
       "      <td>all</td>\n",
       "      <td>constant</td>\n",
       "      <td>{'value': -32.571}</td>\n",
       "    </tr>\n",
       "    <tr>\n",
       "      <th>7</th>\n",
       "      <td>stdNa</td>\n",
       "      <td>sigma_m_stdNa</td>\n",
       "      <td>all</td>\n",
       "      <td>constant</td>\n",
       "      <td>{'value': 9.8}</td>\n",
       "    </tr>\n",
       "    <tr>\n",
       "      <th>8</th>\n",
       "      <td>stdNa</td>\n",
       "      <td>k_m_stdNa</td>\n",
       "      <td>all</td>\n",
       "      <td>constant</td>\n",
       "      <td>{'value': 1.882}</td>\n",
       "    </tr>\n",
       "    <tr>\n",
       "      <th>9</th>\n",
       "      <td>stdNa</td>\n",
       "      <td>delta_m_stdNa</td>\n",
       "      <td>all</td>\n",
       "      <td>constant</td>\n",
       "      <td>{'value': 0.541}</td>\n",
       "    </tr>\n",
       "    <tr>\n",
       "      <th>10</th>\n",
       "      <td>stdNa</td>\n",
       "      <td>tau0_m_stdNa</td>\n",
       "      <td>all</td>\n",
       "      <td>constant</td>\n",
       "      <td>{'value': 0.065}</td>\n",
       "    </tr>\n",
       "    <tr>\n",
       "      <th>11</th>\n",
       "      <td>stdNa</td>\n",
       "      <td>vhalf_h_stdNa</td>\n",
       "      <td>all</td>\n",
       "      <td>constant</td>\n",
       "      <td>{'value': -60.0}</td>\n",
       "    </tr>\n",
       "    <tr>\n",
       "      <th>12</th>\n",
       "      <td>stdNa</td>\n",
       "      <td>sigma_h_stdNa</td>\n",
       "      <td>all</td>\n",
       "      <td>constant</td>\n",
       "      <td>{'value': -6.2}</td>\n",
       "    </tr>\n",
       "    <tr>\n",
       "      <th>13</th>\n",
       "      <td>stdNa</td>\n",
       "      <td>k_h_stdNa</td>\n",
       "      <td>all</td>\n",
       "      <td>constant</td>\n",
       "      <td>{'value': 0.018}</td>\n",
       "    </tr>\n",
       "    <tr>\n",
       "      <th>14</th>\n",
       "      <td>stdNa</td>\n",
       "      <td>delta_h_stdNa</td>\n",
       "      <td>all</td>\n",
       "      <td>constant</td>\n",
       "      <td>{'value': 0.395}</td>\n",
       "    </tr>\n",
       "    <tr>\n",
       "      <th>15</th>\n",
       "      <td>stdNa</td>\n",
       "      <td>tau0_h_stdNa</td>\n",
       "      <td>all</td>\n",
       "      <td>constant</td>\n",
       "      <td>{'value': 0.797}</td>\n",
       "    </tr>\n",
       "    <tr>\n",
       "      <th>16</th>\n",
       "      <td>stdNa</td>\n",
       "      <td>gbar_stdNa</td>\n",
       "      <td>all</td>\n",
       "      <td>constant</td>\n",
       "      <td>{'value': 0.03}</td>\n",
       "    </tr>\n",
       "    <tr>\n",
       "      <th>17</th>\n",
       "      <td>stdNa</td>\n",
       "      <td>gbar_stdNa</td>\n",
       "      <td>somatic</td>\n",
       "      <td>constant</td>\n",
       "      <td>{'value': 0.05}</td>\n",
       "    </tr>\n",
       "    <tr>\n",
       "      <th>18</th>\n",
       "      <td>stdNa</td>\n",
       "      <td>q10_stdNa</td>\n",
       "      <td>all</td>\n",
       "      <td>constant</td>\n",
       "      <td>{'value': 2.3}</td>\n",
       "    </tr>\n",
       "    <tr>\n",
       "      <th>19</th>\n",
       "      <td>stdNa</td>\n",
       "      <td>temp_stdNa</td>\n",
       "      <td>all</td>\n",
       "      <td>constant</td>\n",
       "      <td>{'value': 23}</td>\n",
       "    </tr>\n",
       "    <tr>\n",
       "      <th>20</th>\n",
       "      <td>stdKv</td>\n",
       "      <td>vhalf_n_stdKv</td>\n",
       "      <td>all</td>\n",
       "      <td>constant</td>\n",
       "      <td>{'value': 14.164}</td>\n",
       "    </tr>\n",
       "    <tr>\n",
       "      <th>21</th>\n",
       "      <td>stdKv</td>\n",
       "      <td>sigma_n_stdKv</td>\n",
       "      <td>all</td>\n",
       "      <td>constant</td>\n",
       "      <td>{'value': 9.0}</td>\n",
       "    </tr>\n",
       "    <tr>\n",
       "      <th>22</th>\n",
       "      <td>stdKv</td>\n",
       "      <td>k_n_stdKv</td>\n",
       "      <td>all</td>\n",
       "      <td>constant</td>\n",
       "      <td>{'value': 0.123}</td>\n",
       "    </tr>\n",
       "    <tr>\n",
       "      <th>23</th>\n",
       "      <td>stdKv</td>\n",
       "      <td>delta_n_stdKv</td>\n",
       "      <td>all</td>\n",
       "      <td>constant</td>\n",
       "      <td>{'value': 0.732}</td>\n",
       "    </tr>\n",
       "    <tr>\n",
       "      <th>24</th>\n",
       "      <td>stdKv</td>\n",
       "      <td>tau0_n_stdKv</td>\n",
       "      <td>all</td>\n",
       "      <td>constant</td>\n",
       "      <td>{'value': 0.877}</td>\n",
       "    </tr>\n",
       "    <tr>\n",
       "      <th>25</th>\n",
       "      <td>stdKv</td>\n",
       "      <td>gbar_stdKv</td>\n",
       "      <td>all</td>\n",
       "      <td>constant</td>\n",
       "      <td>{'value': 0.003}</td>\n",
       "    </tr>\n",
       "    <tr>\n",
       "      <th>26</th>\n",
       "      <td>stdKv</td>\n",
       "      <td>gbar_stdKv</td>\n",
       "      <td>somatic</td>\n",
       "      <td>constant</td>\n",
       "      <td>{'value': 0.005}</td>\n",
       "    </tr>\n",
       "    <tr>\n",
       "      <th>27</th>\n",
       "      <td>stdKv</td>\n",
       "      <td>q10_stdKv</td>\n",
       "      <td>all</td>\n",
       "      <td>constant</td>\n",
       "      <td>{'value': 2.3}</td>\n",
       "    </tr>\n",
       "    <tr>\n",
       "      <th>28</th>\n",
       "      <td>stdKv</td>\n",
       "      <td>temp_stdKv</td>\n",
       "      <td>all</td>\n",
       "      <td>constant</td>\n",
       "      <td>{'value': 23}</td>\n",
       "    </tr>\n",
       "  </tbody>\n",
       "</table>\n",
       "</div>"
      ],
      "text/plain": [
       "      Mechanism      Parameter    Group Distribution Distribution params\n",
       "0   Independent             cm      all     constant        {'value': 1}\n",
       "1   Independent             Ra      all     constant      {'value': 100}\n",
       "2   Independent            ena      all     constant       {'value': 50}\n",
       "3   Independent             ek      all     constant      {'value': -77}\n",
       "4          Leak      gbar_Leak      all     constant   {'value': 0.0001}\n",
       "5          Leak         e_Leak      all     constant    {'value': -70.0}\n",
       "6         stdNa  vhalf_m_stdNa      all     constant  {'value': -32.571}\n",
       "7         stdNa  sigma_m_stdNa      all     constant      {'value': 9.8}\n",
       "8         stdNa      k_m_stdNa      all     constant    {'value': 1.882}\n",
       "9         stdNa  delta_m_stdNa      all     constant    {'value': 0.541}\n",
       "10        stdNa   tau0_m_stdNa      all     constant    {'value': 0.065}\n",
       "11        stdNa  vhalf_h_stdNa      all     constant    {'value': -60.0}\n",
       "12        stdNa  sigma_h_stdNa      all     constant     {'value': -6.2}\n",
       "13        stdNa      k_h_stdNa      all     constant    {'value': 0.018}\n",
       "14        stdNa  delta_h_stdNa      all     constant    {'value': 0.395}\n",
       "15        stdNa   tau0_h_stdNa      all     constant    {'value': 0.797}\n",
       "16        stdNa     gbar_stdNa      all     constant     {'value': 0.03}\n",
       "17        stdNa     gbar_stdNa  somatic     constant     {'value': 0.05}\n",
       "18        stdNa      q10_stdNa      all     constant      {'value': 2.3}\n",
       "19        stdNa     temp_stdNa      all     constant       {'value': 23}\n",
       "20        stdKv  vhalf_n_stdKv      all     constant   {'value': 14.164}\n",
       "21        stdKv  sigma_n_stdKv      all     constant      {'value': 9.0}\n",
       "22        stdKv      k_n_stdKv      all     constant    {'value': 0.123}\n",
       "23        stdKv  delta_n_stdKv      all     constant    {'value': 0.732}\n",
       "24        stdKv   tau0_n_stdKv      all     constant    {'value': 0.877}\n",
       "25        stdKv     gbar_stdKv      all     constant    {'value': 0.003}\n",
       "26        stdKv     gbar_stdKv  somatic     constant    {'value': 0.005}\n",
       "27        stdKv      q10_stdKv      all     constant      {'value': 2.3}\n",
       "28        stdKv     temp_stdKv      all     constant       {'value': 23}"
      ]
     },
     "execution_count": 22,
     "metadata": {},
     "output_type": "execute_result"
    }
   ],
   "source": [
    "model.df_params"
   ]
  },
  {
   "cell_type": "code",
   "execution_count": 23,
   "metadata": {},
   "outputs": [],
   "source": [
    "# model._cell.nodes"
   ]
  },
  {
   "cell_type": "code",
   "execution_count": 24,
   "metadata": {},
   "outputs": [],
   "source": [
    "# model.sec_tree[5]._ref.nodes"
   ]
  },
  {
   "cell_type": "code",
   "execution_count": 25,
   "metadata": {},
   "outputs": [
    {
     "name": "stdout",
     "output_type": "stream",
     "text": [
      "IClamp added to sec JaxleySection(idx=0) at loc 0.5.\n"
     ]
    }
   ],
   "source": [
    "model.add_iclamp(sec=model.sec_tree[0], loc=0.5, amp=0.15, dur=100, delay=100)"
   ]
  },
  {
   "cell_type": "code",
   "execution_count": 26,
   "metadata": {},
   "outputs": [
    {
     "name": "stdout",
     "output_type": "stream",
     "text": [
      "Added 1 recordings. See `.recordings` for details.\n"
     ]
    }
   ],
   "source": [
    "model.simulator.add_recording(sec=model.sec_tree[0], loc=0.5)"
   ]
  },
  {
   "cell_type": "code",
   "execution_count": 27,
   "metadata": {},
   "outputs": [],
   "source": [
    "# model.simulator.add_recording(sec=model.sec_tree[-1], loc=0.5)"
   ]
  },
  {
   "cell_type": "code",
   "execution_count": 28,
   "metadata": {},
   "outputs": [],
   "source": [
    "model.mechanisms['stdNa'].set_tadj(37)\n",
    "model.mechanisms['stdKv'].set_tadj(37)"
   ]
  },
  {
   "cell_type": "code",
   "execution_count": 29,
   "metadata": {},
   "outputs": [
    {
     "name": "stdout",
     "output_type": "stream",
     "text": [
      "Added 1 external_states. See `.externals` for details.\n"
     ]
    }
   ],
   "source": [
    "model.simulator.run(duration=300)"
   ]
  },
  {
   "cell_type": "code",
   "execution_count": 30,
   "metadata": {},
   "outputs": [],
   "source": [
    "# fig, ax = plt.subplots(1, 1, figsize=(10, 4))\n",
    "# model.simulator.plot_voltage(ax=ax)\n",
    "# plt.title(model.simulator_name)"
   ]
  },
  {
   "cell_type": "code",
   "execution_count": 31,
   "metadata": {},
   "outputs": [],
   "source": [
    "path_to_voltage = os.path.join(path_to_model, 'voltage_NEURON.npy')\n",
    "t = model.simulator.t\n",
    "v_orig = np.load(path_to_voltage)"
   ]
  },
  {
   "cell_type": "code",
   "execution_count": 32,
   "metadata": {},
   "outputs": [
    {
     "data": {
      "text/plain": [
       "<matplotlib.legend.Legend at 0x7f259ce9d990>"
      ]
     },
     "execution_count": 32,
     "metadata": {},
     "output_type": "execute_result"
    },
    {
     "data": {
      "image/png": "[encoded data removed]",
      "text/plain": [
       "<Figure size 1000x400 with 1 Axes>"
      ]
     },
     "metadata": {},
     "output_type": "display_data"
    }
   ],
   "source": [
    "fig, ax = plt.subplots(1, 1, figsize=(10, 4))\n",
    "ax.plot(t, v_orig, color='C0', linestyle='-', zorder=0, lw=1, label='NEURON')\n",
    "model.simulator.plot_voltage(ax=ax, linestyle='--', color='C1', alpha=0.8)\n",
    "ax.legend(labels=['NEURON', 'Jaxley'])"
   ]
  }
 ],
 "metadata": {
  "kernelspec": {
   "display_name": "dendrotweakstest",
   "language": "python",
   "name": "python3"
  },
  "language_info": {
   "codemirror_mode": {
    "name": "ipython",
    "version": 3
   },
   "file_extension": ".py",
   "mimetype": "text/x-python",
   "name": "python",
   "nbconvert_exporter": "python",
   "pygments_lexer": "ipython3",
   "version": "3.11.11"
  }
 },
 "nbformat": 4,
 "nbformat_minor": 2
}
