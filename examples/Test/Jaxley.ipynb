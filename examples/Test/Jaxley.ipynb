{
 "cells": [
  {
   "cell_type": "code",
   "execution_count": 1,
   "metadata": {},
   "outputs": [],
   "source": [
    "import numpy as np\n",
    "import matplotlib.pyplot as plt\n",
    "import os"
   ]
  },
  {
   "cell_type": "code",
   "execution_count": 2,
   "metadata": {},
   "outputs": [
    {
     "data": {
      "text/plain": [
       "'0.4.0'"
      ]
     },
     "execution_count": 2,
     "metadata": {},
     "output_type": "execute_result"
    }
   ],
   "source": [
    "import dendrotweaks as dd\n",
    "dd.__version__"
   ]
  },
  {
   "cell_type": "code",
   "execution_count": 3,
   "metadata": {},
   "outputs": [],
   "source": [
    "dd.apply_dark_theme()"
   ]
  },
  {
   "cell_type": "code",
   "execution_count": 4,
   "metadata": {},
   "outputs": [
    {
     "name": "stdout",
     "output_type": "stream",
     "text": [
      "Path to model: /home/roman/Documents/code/DendroTweaksLab/DendroTweaks/examples/Test\n",
      "Path to data: /home/roman/Documents/code/DendroTweaksLab/DendroTweaks/examples\n"
     ]
    }
   ],
   "source": [
    "path_to_model = os.getcwd()\n",
    "print(f'Path to model: {path_to_model}')\n",
    "path_to_data = os.path.dirname(path_to_model)\n",
    "print(f'Path to data: {path_to_data}')"
   ]
  },
  {
   "cell_type": "code",
   "execution_count": 5,
   "metadata": {},
   "outputs": [],
   "source": [
    "model = dd.Model(path_to_model, simulator_name='Jaxley')"
   ]
  },
  {
   "cell_type": "code",
   "execution_count": 6,
   "metadata": {},
   "outputs": [
    {
     "name": "stdout",
     "output_type": "stream",
     "text": [
      "Sorted PointTree(root=Point(idx=0), num_nodes=17).\n",
      "Apical dendrite is already aligned.\n",
      "Extended 6 nodes.\n",
      "Sorted PointTree(root=Point(idx=0), num_nodes=23).\n"
     ]
    }
   ],
   "source": [
    "model.load_morphology(file_name='ball-and-stick', soma_notation='3PS')"
   ]
  },
  {
   "cell_type": "code",
   "execution_count": 7,
   "metadata": {},
   "outputs": [],
   "source": [
    "# model.sec_tree[0]._ref.set('length', 20)\n",
    "# model.sec_tree[0]._ref.set('radius', 10)"
   ]
  },
  {
   "cell_type": "code",
   "execution_count": 8,
   "metadata": {},
   "outputs": [
    {
     "name": "stdout",
     "output_type": "stream",
     "text": [
      "1\n",
      "1\n",
      "1\n",
      "1\n",
      "1\n",
      "1\n",
      "1\n",
      "1\n",
      "1\n"
     ]
    }
   ],
   "source": [
    "for sec in model.sec_tree[1:]:\n",
    "    # print(sec._ref.ncomp)\n",
    "    # sec._cell[sec.idx].set_ncomp(3)\n",
    "    print(sec.nseg)\n",
    "    sec.nseg = 3"
   ]
  },
  {
   "cell_type": "code",
   "execution_count": 9,
   "metadata": {},
   "outputs": [],
   "source": [
    "# for sec in model.sec_tree:\n",
    "#     for seg in sec.segments:\n",
    "#         print(f'sec: {sec.idx}, seg: {seg.idx}, x: {seg.diam/2}')"
   ]
  },
  {
   "cell_type": "code",
   "execution_count": 10,
   "metadata": {},
   "outputs": [
    {
     "data": {
      "text/html": [
       "<div>\n",
       "<style scoped>\n",
       "    .dataframe tbody tr th:only-of-type {\n",
       "        vertical-align: middle;\n",
       "    }\n",
       "\n",
       "    .dataframe tbody tr th {\n",
       "        vertical-align: top;\n",
       "    }\n",
       "\n",
       "    .dataframe thead th {\n",
       "        text-align: right;\n",
       "    }\n",
       "</style>\n",
       "<table border=\"1\" class=\"dataframe\">\n",
       "  <thead>\n",
       "    <tr style=\"text-align: right;\">\n",
       "      <th></th>\n",
       "      <th>local_cell_index</th>\n",
       "      <th>local_branch_index</th>\n",
       "      <th>local_comp_index</th>\n",
       "      <th>length</th>\n",
       "      <th>radius</th>\n",
       "      <th>axial_resistivity</th>\n",
       "      <th>capacitance</th>\n",
       "      <th>v</th>\n",
       "      <th>global_cell_index</th>\n",
       "      <th>global_branch_index</th>\n",
       "      <th>global_comp_index</th>\n",
       "      <th>controlled_by_param</th>\n",
       "    </tr>\n",
       "  </thead>\n",
       "  <tbody>\n",
       "    <tr>\n",
       "      <th>0</th>\n",
       "      <td>0</td>\n",
       "      <td>0</td>\n",
       "      <td>0</td>\n",
       "      <td>20.000000</td>\n",
       "      <td>10.000000</td>\n",
       "      <td>5000.0</td>\n",
       "      <td>1.0</td>\n",
       "      <td>-70.0</td>\n",
       "      <td>0</td>\n",
       "      <td>0</td>\n",
       "      <td>0</td>\n",
       "      <td>0</td>\n",
       "    </tr>\n",
       "    <tr>\n",
       "      <th>1</th>\n",
       "      <td>0</td>\n",
       "      <td>1</td>\n",
       "      <td>0</td>\n",
       "      <td>42.426407</td>\n",
       "      <td>2.000000</td>\n",
       "      <td>5000.0</td>\n",
       "      <td>1.0</td>\n",
       "      <td>-70.0</td>\n",
       "      <td>0</td>\n",
       "      <td>1</td>\n",
       "      <td>1</td>\n",
       "      <td>0</td>\n",
       "    </tr>\n",
       "    <tr>\n",
       "      <th>2</th>\n",
       "      <td>0</td>\n",
       "      <td>1</td>\n",
       "      <td>1</td>\n",
       "      <td>42.426407</td>\n",
       "      <td>2.000000</td>\n",
       "      <td>5000.0</td>\n",
       "      <td>1.0</td>\n",
       "      <td>-70.0</td>\n",
       "      <td>0</td>\n",
       "      <td>1</td>\n",
       "      <td>2</td>\n",
       "      <td>0</td>\n",
       "    </tr>\n",
       "    <tr>\n",
       "      <th>3</th>\n",
       "      <td>0</td>\n",
       "      <td>1</td>\n",
       "      <td>2</td>\n",
       "      <td>42.426407</td>\n",
       "      <td>2.000000</td>\n",
       "      <td>5000.0</td>\n",
       "      <td>1.0</td>\n",
       "      <td>-70.0</td>\n",
       "      <td>0</td>\n",
       "      <td>1</td>\n",
       "      <td>3</td>\n",
       "      <td>0</td>\n",
       "    </tr>\n",
       "    <tr>\n",
       "      <th>4</th>\n",
       "      <td>0</td>\n",
       "      <td>2</td>\n",
       "      <td>0</td>\n",
       "      <td>42.426407</td>\n",
       "      <td>2.000000</td>\n",
       "      <td>5000.0</td>\n",
       "      <td>1.0</td>\n",
       "      <td>-70.0</td>\n",
       "      <td>0</td>\n",
       "      <td>2</td>\n",
       "      <td>4</td>\n",
       "      <td>0</td>\n",
       "    </tr>\n",
       "    <tr>\n",
       "      <th>5</th>\n",
       "      <td>0</td>\n",
       "      <td>2</td>\n",
       "      <td>1</td>\n",
       "      <td>42.426407</td>\n",
       "      <td>2.000000</td>\n",
       "      <td>5000.0</td>\n",
       "      <td>1.0</td>\n",
       "      <td>-70.0</td>\n",
       "      <td>0</td>\n",
       "      <td>2</td>\n",
       "      <td>5</td>\n",
       "      <td>0</td>\n",
       "    </tr>\n",
       "    <tr>\n",
       "      <th>6</th>\n",
       "      <td>0</td>\n",
       "      <td>2</td>\n",
       "      <td>2</td>\n",
       "      <td>42.426407</td>\n",
       "      <td>2.000000</td>\n",
       "      <td>5000.0</td>\n",
       "      <td>1.0</td>\n",
       "      <td>-70.0</td>\n",
       "      <td>0</td>\n",
       "      <td>2</td>\n",
       "      <td>6</td>\n",
       "      <td>0</td>\n",
       "    </tr>\n",
       "    <tr>\n",
       "      <th>7</th>\n",
       "      <td>0</td>\n",
       "      <td>3</td>\n",
       "      <td>0</td>\n",
       "      <td>96.666667</td>\n",
       "      <td>2.000000</td>\n",
       "      <td>5000.0</td>\n",
       "      <td>1.0</td>\n",
       "      <td>-70.0</td>\n",
       "      <td>0</td>\n",
       "      <td>3</td>\n",
       "      <td>7</td>\n",
       "      <td>0</td>\n",
       "    </tr>\n",
       "    <tr>\n",
       "      <th>8</th>\n",
       "      <td>0</td>\n",
       "      <td>3</td>\n",
       "      <td>1</td>\n",
       "      <td>96.666667</td>\n",
       "      <td>1.450000</td>\n",
       "      <td>5000.0</td>\n",
       "      <td>1.0</td>\n",
       "      <td>-70.0</td>\n",
       "      <td>0</td>\n",
       "      <td>3</td>\n",
       "      <td>8</td>\n",
       "      <td>0</td>\n",
       "    </tr>\n",
       "    <tr>\n",
       "      <th>9</th>\n",
       "      <td>0</td>\n",
       "      <td>3</td>\n",
       "      <td>2</td>\n",
       "      <td>96.666667</td>\n",
       "      <td>1.000000</td>\n",
       "      <td>5000.0</td>\n",
       "      <td>1.0</td>\n",
       "      <td>-70.0</td>\n",
       "      <td>0</td>\n",
       "      <td>3</td>\n",
       "      <td>9</td>\n",
       "      <td>0</td>\n",
       "    </tr>\n",
       "    <tr>\n",
       "      <th>10</th>\n",
       "      <td>0</td>\n",
       "      <td>4</td>\n",
       "      <td>0</td>\n",
       "      <td>47.140452</td>\n",
       "      <td>0.916667</td>\n",
       "      <td>5000.0</td>\n",
       "      <td>1.0</td>\n",
       "      <td>-70.0</td>\n",
       "      <td>0</td>\n",
       "      <td>4</td>\n",
       "      <td>10</td>\n",
       "      <td>0</td>\n",
       "    </tr>\n",
       "    <tr>\n",
       "      <th>11</th>\n",
       "      <td>0</td>\n",
       "      <td>4</td>\n",
       "      <td>1</td>\n",
       "      <td>47.140452</td>\n",
       "      <td>0.750000</td>\n",
       "      <td>5000.0</td>\n",
       "      <td>1.0</td>\n",
       "      <td>-70.0</td>\n",
       "      <td>0</td>\n",
       "      <td>4</td>\n",
       "      <td>11</td>\n",
       "      <td>0</td>\n",
       "    </tr>\n",
       "    <tr>\n",
       "      <th>12</th>\n",
       "      <td>0</td>\n",
       "      <td>4</td>\n",
       "      <td>2</td>\n",
       "      <td>47.140452</td>\n",
       "      <td>0.583333</td>\n",
       "      <td>5000.0</td>\n",
       "      <td>1.0</td>\n",
       "      <td>-70.0</td>\n",
       "      <td>0</td>\n",
       "      <td>4</td>\n",
       "      <td>12</td>\n",
       "      <td>0</td>\n",
       "    </tr>\n",
       "    <tr>\n",
       "      <th>13</th>\n",
       "      <td>0</td>\n",
       "      <td>5</td>\n",
       "      <td>0</td>\n",
       "      <td>33.333333</td>\n",
       "      <td>0.458333</td>\n",
       "      <td>5000.0</td>\n",
       "      <td>1.0</td>\n",
       "      <td>-70.0</td>\n",
       "      <td>0</td>\n",
       "      <td>5</td>\n",
       "      <td>13</td>\n",
       "      <td>0</td>\n",
       "    </tr>\n",
       "    <tr>\n",
       "      <th>14</th>\n",
       "      <td>0</td>\n",
       "      <td>5</td>\n",
       "      <td>1</td>\n",
       "      <td>33.333333</td>\n",
       "      <td>0.375000</td>\n",
       "      <td>5000.0</td>\n",
       "      <td>1.0</td>\n",
       "      <td>-70.0</td>\n",
       "      <td>0</td>\n",
       "      <td>5</td>\n",
       "      <td>14</td>\n",
       "      <td>0</td>\n",
       "    </tr>\n",
       "    <tr>\n",
       "      <th>15</th>\n",
       "      <td>0</td>\n",
       "      <td>5</td>\n",
       "      <td>2</td>\n",
       "      <td>33.333333</td>\n",
       "      <td>0.291667</td>\n",
       "      <td>5000.0</td>\n",
       "      <td>1.0</td>\n",
       "      <td>-70.0</td>\n",
       "      <td>0</td>\n",
       "      <td>5</td>\n",
       "      <td>15</td>\n",
       "      <td>0</td>\n",
       "    </tr>\n",
       "    <tr>\n",
       "      <th>16</th>\n",
       "      <td>0</td>\n",
       "      <td>6</td>\n",
       "      <td>0</td>\n",
       "      <td>33.333333</td>\n",
       "      <td>0.458333</td>\n",
       "      <td>5000.0</td>\n",
       "      <td>1.0</td>\n",
       "      <td>-70.0</td>\n",
       "      <td>0</td>\n",
       "      <td>6</td>\n",
       "      <td>16</td>\n",
       "      <td>0</td>\n",
       "    </tr>\n",
       "    <tr>\n",
       "      <th>17</th>\n",
       "      <td>0</td>\n",
       "      <td>6</td>\n",
       "      <td>1</td>\n",
       "      <td>33.333333</td>\n",
       "      <td>0.375000</td>\n",
       "      <td>5000.0</td>\n",
       "      <td>1.0</td>\n",
       "      <td>-70.0</td>\n",
       "      <td>0</td>\n",
       "      <td>6</td>\n",
       "      <td>17</td>\n",
       "      <td>0</td>\n",
       "    </tr>\n",
       "    <tr>\n",
       "      <th>18</th>\n",
       "      <td>0</td>\n",
       "      <td>6</td>\n",
       "      <td>2</td>\n",
       "      <td>33.333333</td>\n",
       "      <td>0.291667</td>\n",
       "      <td>5000.0</td>\n",
       "      <td>1.0</td>\n",
       "      <td>-70.0</td>\n",
       "      <td>0</td>\n",
       "      <td>6</td>\n",
       "      <td>18</td>\n",
       "      <td>0</td>\n",
       "    </tr>\n",
       "    <tr>\n",
       "      <th>19</th>\n",
       "      <td>0</td>\n",
       "      <td>7</td>\n",
       "      <td>0</td>\n",
       "      <td>47.140452</td>\n",
       "      <td>0.916667</td>\n",
       "      <td>5000.0</td>\n",
       "      <td>1.0</td>\n",
       "      <td>-70.0</td>\n",
       "      <td>0</td>\n",
       "      <td>7</td>\n",
       "      <td>19</td>\n",
       "      <td>0</td>\n",
       "    </tr>\n",
       "    <tr>\n",
       "      <th>20</th>\n",
       "      <td>0</td>\n",
       "      <td>7</td>\n",
       "      <td>1</td>\n",
       "      <td>47.140452</td>\n",
       "      <td>0.750000</td>\n",
       "      <td>5000.0</td>\n",
       "      <td>1.0</td>\n",
       "      <td>-70.0</td>\n",
       "      <td>0</td>\n",
       "      <td>7</td>\n",
       "      <td>20</td>\n",
       "      <td>0</td>\n",
       "    </tr>\n",
       "    <tr>\n",
       "      <th>21</th>\n",
       "      <td>0</td>\n",
       "      <td>7</td>\n",
       "      <td>2</td>\n",
       "      <td>47.140452</td>\n",
       "      <td>0.583333</td>\n",
       "      <td>5000.0</td>\n",
       "      <td>1.0</td>\n",
       "      <td>-70.0</td>\n",
       "      <td>0</td>\n",
       "      <td>7</td>\n",
       "      <td>21</td>\n",
       "      <td>0</td>\n",
       "    </tr>\n",
       "    <tr>\n",
       "      <th>22</th>\n",
       "      <td>0</td>\n",
       "      <td>8</td>\n",
       "      <td>0</td>\n",
       "      <td>33.333333</td>\n",
       "      <td>0.458333</td>\n",
       "      <td>5000.0</td>\n",
       "      <td>1.0</td>\n",
       "      <td>-70.0</td>\n",
       "      <td>0</td>\n",
       "      <td>8</td>\n",
       "      <td>22</td>\n",
       "      <td>0</td>\n",
       "    </tr>\n",
       "    <tr>\n",
       "      <th>23</th>\n",
       "      <td>0</td>\n",
       "      <td>8</td>\n",
       "      <td>1</td>\n",
       "      <td>33.333333</td>\n",
       "      <td>0.375000</td>\n",
       "      <td>5000.0</td>\n",
       "      <td>1.0</td>\n",
       "      <td>-70.0</td>\n",
       "      <td>0</td>\n",
       "      <td>8</td>\n",
       "      <td>23</td>\n",
       "      <td>0</td>\n",
       "    </tr>\n",
       "    <tr>\n",
       "      <th>24</th>\n",
       "      <td>0</td>\n",
       "      <td>8</td>\n",
       "      <td>2</td>\n",
       "      <td>33.333333</td>\n",
       "      <td>0.291667</td>\n",
       "      <td>5000.0</td>\n",
       "      <td>1.0</td>\n",
       "      <td>-70.0</td>\n",
       "      <td>0</td>\n",
       "      <td>8</td>\n",
       "      <td>24</td>\n",
       "      <td>0</td>\n",
       "    </tr>\n",
       "    <tr>\n",
       "      <th>25</th>\n",
       "      <td>0</td>\n",
       "      <td>9</td>\n",
       "      <td>0</td>\n",
       "      <td>33.333333</td>\n",
       "      <td>0.458333</td>\n",
       "      <td>5000.0</td>\n",
       "      <td>1.0</td>\n",
       "      <td>-70.0</td>\n",
       "      <td>0</td>\n",
       "      <td>9</td>\n",
       "      <td>25</td>\n",
       "      <td>0</td>\n",
       "    </tr>\n",
       "    <tr>\n",
       "      <th>26</th>\n",
       "      <td>0</td>\n",
       "      <td>9</td>\n",
       "      <td>1</td>\n",
       "      <td>33.333333</td>\n",
       "      <td>0.375000</td>\n",
       "      <td>5000.0</td>\n",
       "      <td>1.0</td>\n",
       "      <td>-70.0</td>\n",
       "      <td>0</td>\n",
       "      <td>9</td>\n",
       "      <td>26</td>\n",
       "      <td>0</td>\n",
       "    </tr>\n",
       "    <tr>\n",
       "      <th>27</th>\n",
       "      <td>0</td>\n",
       "      <td>9</td>\n",
       "      <td>2</td>\n",
       "      <td>33.333333</td>\n",
       "      <td>0.291667</td>\n",
       "      <td>5000.0</td>\n",
       "      <td>1.0</td>\n",
       "      <td>-70.0</td>\n",
       "      <td>0</td>\n",
       "      <td>9</td>\n",
       "      <td>27</td>\n",
       "      <td>0</td>\n",
       "    </tr>\n",
       "  </tbody>\n",
       "</table>\n",
       "</div>"
      ],
      "text/plain": [
       "    local_cell_index  local_branch_index  local_comp_index     length  \\\n",
       "0                  0                   0                 0  20.000000   \n",
       "1                  0                   1                 0  42.426407   \n",
       "2                  0                   1                 1  42.426407   \n",
       "3                  0                   1                 2  42.426407   \n",
       "4                  0                   2                 0  42.426407   \n",
       "5                  0                   2                 1  42.426407   \n",
       "6                  0                   2                 2  42.426407   \n",
       "7                  0                   3                 0  96.666667   \n",
       "8                  0                   3                 1  96.666667   \n",
       "9                  0                   3                 2  96.666667   \n",
       "10                 0                   4                 0  47.140452   \n",
       "11                 0                   4                 1  47.140452   \n",
       "12                 0                   4                 2  47.140452   \n",
       "13                 0                   5                 0  33.333333   \n",
       "14                 0                   5                 1  33.333333   \n",
       "15                 0                   5                 2  33.333333   \n",
       "16                 0                   6                 0  33.333333   \n",
       "17                 0                   6                 1  33.333333   \n",
       "18                 0                   6                 2  33.333333   \n",
       "19                 0                   7                 0  47.140452   \n",
       "20                 0                   7                 1  47.140452   \n",
       "21                 0                   7                 2  47.140452   \n",
       "22                 0                   8                 0  33.333333   \n",
       "23                 0                   8                 1  33.333333   \n",
       "24                 0                   8                 2  33.333333   \n",
       "25                 0                   9                 0  33.333333   \n",
       "26                 0                   9                 1  33.333333   \n",
       "27                 0                   9                 2  33.333333   \n",
       "\n",
       "       radius  axial_resistivity  capacitance     v  global_cell_index  \\\n",
       "0   10.000000             5000.0          1.0 -70.0                  0   \n",
       "1    2.000000             5000.0          1.0 -70.0                  0   \n",
       "2    2.000000             5000.0          1.0 -70.0                  0   \n",
       "3    2.000000             5000.0          1.0 -70.0                  0   \n",
       "4    2.000000             5000.0          1.0 -70.0                  0   \n",
       "5    2.000000             5000.0          1.0 -70.0                  0   \n",
       "6    2.000000             5000.0          1.0 -70.0                  0   \n",
       "7    2.000000             5000.0          1.0 -70.0                  0   \n",
       "8    1.450000             5000.0          1.0 -70.0                  0   \n",
       "9    1.000000             5000.0          1.0 -70.0                  0   \n",
       "10   0.916667             5000.0          1.0 -70.0                  0   \n",
       "11   0.750000             5000.0          1.0 -70.0                  0   \n",
       "12   0.583333             5000.0          1.0 -70.0                  0   \n",
       "13   0.458333             5000.0          1.0 -70.0                  0   \n",
       "14   0.375000             5000.0          1.0 -70.0                  0   \n",
       "15   0.291667             5000.0          1.0 -70.0                  0   \n",
       "16   0.458333             5000.0          1.0 -70.0                  0   \n",
       "17   0.375000             5000.0          1.0 -70.0                  0   \n",
       "18   0.291667             5000.0          1.0 -70.0                  0   \n",
       "19   0.916667             5000.0          1.0 -70.0                  0   \n",
       "20   0.750000             5000.0          1.0 -70.0                  0   \n",
       "21   0.583333             5000.0          1.0 -70.0                  0   \n",
       "22   0.458333             5000.0          1.0 -70.0                  0   \n",
       "23   0.375000             5000.0          1.0 -70.0                  0   \n",
       "24   0.291667             5000.0          1.0 -70.0                  0   \n",
       "25   0.458333             5000.0          1.0 -70.0                  0   \n",
       "26   0.375000             5000.0          1.0 -70.0                  0   \n",
       "27   0.291667             5000.0          1.0 -70.0                  0   \n",
       "\n",
       "    global_branch_index  global_comp_index  controlled_by_param  \n",
       "0                     0                  0                    0  \n",
       "1                     1                  1                    0  \n",
       "2                     1                  2                    0  \n",
       "3                     1                  3                    0  \n",
       "4                     2                  4                    0  \n",
       "5                     2                  5                    0  \n",
       "6                     2                  6                    0  \n",
       "7                     3                  7                    0  \n",
       "8                     3                  8                    0  \n",
       "9                     3                  9                    0  \n",
       "10                    4                 10                    0  \n",
       "11                    4                 11                    0  \n",
       "12                    4                 12                    0  \n",
       "13                    5                 13                    0  \n",
       "14                    5                 14                    0  \n",
       "15                    5                 15                    0  \n",
       "16                    6                 16                    0  \n",
       "17                    6                 17                    0  \n",
       "18                    6                 18                    0  \n",
       "19                    7                 19                    0  \n",
       "20                    7                 20                    0  \n",
       "21                    7                 21                    0  \n",
       "22                    8                 22                    0  \n",
       "23                    8                 23                    0  \n",
       "24                    8                 24                    0  \n",
       "25                    9                 25                    0  \n",
       "26                    9                 26                    0  \n",
       "27                    9                 27                    0  "
      ]
     },
     "execution_count": 10,
     "metadata": {},
     "output_type": "execute_result"
    }
   ],
   "source": [
    "model._cell.nodes"
   ]
  },
  {
   "cell_type": "code",
   "execution_count": 11,
   "metadata": {},
   "outputs": [
    {
     "name": "stdout",
     "output_type": "stream",
     "text": [
      "parent |   idx\n",
      "---------------\n",
      "    -1 |   •0\n",
      "     0 |   ├─•1\n",
      "     0 |   ├─•2\n",
      "     0 |   └─•3\n",
      "     3 |     ├─•4\n",
      "     4 |     │ ├─•5\n",
      "     4 |     │ └─•6\n",
      "     3 |     └─•7\n",
      "     7 |       ├─•8\n",
      "     7 |       └─•9\n"
     ]
    }
   ],
   "source": [
    "model.sec_tree.topology()"
   ]
  },
  {
   "cell_type": "code",
   "execution_count": 17,
   "metadata": {},
   "outputs": [
    {
     "data": {
      "text/plain": [
       "JaxleySection(idx=3)"
      ]
     },
     "execution_count": 17,
     "metadata": {},
     "output_type": "execute_result"
    }
   ],
   "source": [
    "model.sec_tree[3]"
   ]
  },
  {
   "cell_type": "code",
   "execution_count": 10,
   "metadata": {},
   "outputs": [],
   "source": [
    "# model.sec_tree[4]._ref"
   ]
  },
  {
   "cell_type": "code",
   "execution_count": 11,
   "metadata": {},
   "outputs": [],
   "source": [
    "model.add_default_mechanisms()"
   ]
  },
  {
   "cell_type": "code",
   "execution_count": 12,
   "metadata": {},
   "outputs": [
    {
     "name": "stdout",
     "output_type": "stream",
     "text": [
      "Saved content to /home/roman/Documents/code/DendroTweaksLab/DendroTweaks/examples/Test/biophys/python/stdNa.py\n",
      "Saved content to /home/roman/Documents/code/DendroTweaksLab/DendroTweaks/examples/Test/biophys/python/stdKv.py\n"
     ]
    }
   ],
   "source": [
    "if model.simulator_name == 'NEURON':\n",
    "    model.add_mechanism('stdNa')\n",
    "    model.add_mechanism('stdKv')\n",
    "    \n",
    "elif model.simulator_name == 'Jaxley':\n",
    "    model.add_mechanism(\n",
    "        'stdNa',\n",
    "        python_template_name='jaxley',\n",
    "        load=False,\n",
    "        dir_name='mod',\n",
    "        recompile=False\n",
    "    )\n",
    "\n",
    "    model.add_mechanism(\n",
    "        'stdKv',\n",
    "        python_template_name='jaxley',\n",
    "        load=False,\n",
    "        dir_name='mod',\n",
    "        recompile=False\n",
    "    )"
   ]
  },
  {
   "cell_type": "code",
   "execution_count": 13,
   "metadata": {},
   "outputs": [
    {
     "data": {
      "text/plain": [
       "{'Leak': <dendrotweaks.biophys.jaxley_mechanisms.JaxleyLeakChannel at 0x7f8a8c72a2d0>,\n",
       " 'stdNa': <Mechnaism(stdNa)>,\n",
       " 'stdKv': <Mechnaism(stdKv)>}"
      ]
     },
     "execution_count": 13,
     "metadata": {},
     "output_type": "execute_result"
    }
   ],
   "source": [
    "model.mechanisms"
   ]
  },
  {
   "cell_type": "code",
   "execution_count": 14,
   "metadata": {},
   "outputs": [
    {
     "data": {
      "text/plain": [
       "{'apic': <Domain(apic, 7 sections)>,\n",
       " 'dend': <Domain(dend, 2 sections)>,\n",
       " 'soma': <Domain(soma, 1 sections)>}"
      ]
     },
     "execution_count": 14,
     "metadata": {},
     "output_type": "execute_result"
    }
   ],
   "source": [
    "model.domains"
   ]
  },
  {
   "cell_type": "code",
   "execution_count": 15,
   "metadata": {},
   "outputs": [
    {
     "data": {
      "text/plain": [
       "{'apic': set(), 'dend': set(), 'soma': set()}"
      ]
     },
     "execution_count": 15,
     "metadata": {},
     "output_type": "execute_result"
    }
   ],
   "source": [
    "model.domains_to_mechs"
   ]
  },
  {
   "cell_type": "code",
   "execution_count": 16,
   "metadata": {},
   "outputs": [],
   "source": [
    "for domain_name in model.domains:\n",
    "    model.insert_mechanism('Leak', domain_name=domain_name)"
   ]
  },
  {
   "cell_type": "code",
   "execution_count": 17,
   "metadata": {},
   "outputs": [],
   "source": [
    "for domain_name in model.domains:\n",
    "    try:\n",
    "        model.insert_mechanism('stdNa', domain_name=domain_name)\n",
    "    except:\n",
    "        pass"
   ]
  },
  {
   "cell_type": "code",
   "execution_count": 18,
   "metadata": {},
   "outputs": [],
   "source": [
    "for domain_name in model.domains:\n",
    "    try:\n",
    "        model.insert_mechanism('stdKv', domain_name=domain_name)\n",
    "    except:\n",
    "        pass"
   ]
  },
  {
   "cell_type": "code",
   "execution_count": 19,
   "metadata": {},
   "outputs": [
    {
     "name": "stdout",
     "output_type": "stream",
     "text": [
      "Error distributing parameter 'ena': \"Key 'ena' not found in nodes or edges\"\n",
      "Error distributing parameter 'ek': \"Key 'ek' not found in nodes or edges\"\n"
     ]
    }
   ],
   "source": [
    "model.distribute_all()"
   ]
  },
  {
   "cell_type": "code",
   "execution_count": 20,
   "metadata": {},
   "outputs": [],
   "source": [
    "model.set_param('gbar_Leak', value=0.0001)\n",
    "model.set_param('gbar_stdNa', value=0.05)\n",
    "model.set_param('gbar_stdKv', value=0.005)\n",
    "model.set_param('Ra', value=100)\n",
    "model.set_param('cm', value=1)\n",
    "# model.set_param('gbar_Leak',\n",
    "#     distr_type='linear', slope=0.000_01, intercept=0.005)"
   ]
  },
  {
   "cell_type": "code",
   "execution_count": 21,
   "metadata": {},
   "outputs": [
    {
     "data": {
      "text/html": [
       "<div>\n",
       "<style scoped>\n",
       "    .dataframe tbody tr th:only-of-type {\n",
       "        vertical-align: middle;\n",
       "    }\n",
       "\n",
       "    .dataframe tbody tr th {\n",
       "        vertical-align: top;\n",
       "    }\n",
       "\n",
       "    .dataframe thead th {\n",
       "        text-align: right;\n",
       "    }\n",
       "</style>\n",
       "<table border=\"1\" class=\"dataframe\">\n",
       "  <thead>\n",
       "    <tr style=\"text-align: right;\">\n",
       "      <th></th>\n",
       "      <th>Mechanism</th>\n",
       "      <th>Parameter</th>\n",
       "      <th>Group</th>\n",
       "      <th>Distribution</th>\n",
       "      <th>Distribution params</th>\n",
       "    </tr>\n",
       "  </thead>\n",
       "  <tbody>\n",
       "    <tr>\n",
       "      <th>0</th>\n",
       "      <td>Independent</td>\n",
       "      <td>cm</td>\n",
       "      <td>all</td>\n",
       "      <td>constant</td>\n",
       "      <td>{'value': 1}</td>\n",
       "    </tr>\n",
       "    <tr>\n",
       "      <th>1</th>\n",
       "      <td>Independent</td>\n",
       "      <td>Ra</td>\n",
       "      <td>all</td>\n",
       "      <td>constant</td>\n",
       "      <td>{'value': 100}</td>\n",
       "    </tr>\n",
       "    <tr>\n",
       "      <th>2</th>\n",
       "      <td>Independent</td>\n",
       "      <td>ena</td>\n",
       "      <td>all</td>\n",
       "      <td>constant</td>\n",
       "      <td>{'value': 50}</td>\n",
       "    </tr>\n",
       "    <tr>\n",
       "      <th>3</th>\n",
       "      <td>Independent</td>\n",
       "      <td>ek</td>\n",
       "      <td>all</td>\n",
       "      <td>constant</td>\n",
       "      <td>{'value': -77}</td>\n",
       "    </tr>\n",
       "    <tr>\n",
       "      <th>4</th>\n",
       "      <td>Leak</td>\n",
       "      <td>gbar_Leak</td>\n",
       "      <td>all</td>\n",
       "      <td>constant</td>\n",
       "      <td>{'value': 0.0001}</td>\n",
       "    </tr>\n",
       "    <tr>\n",
       "      <th>5</th>\n",
       "      <td>Leak</td>\n",
       "      <td>e_Leak</td>\n",
       "      <td>all</td>\n",
       "      <td>constant</td>\n",
       "      <td>{'value': -70.0}</td>\n",
       "    </tr>\n",
       "    <tr>\n",
       "      <th>6</th>\n",
       "      <td>stdNa</td>\n",
       "      <td>vhalf_m_stdNa</td>\n",
       "      <td>all</td>\n",
       "      <td>constant</td>\n",
       "      <td>{'value': -32.571}</td>\n",
       "    </tr>\n",
       "    <tr>\n",
       "      <th>7</th>\n",
       "      <td>stdNa</td>\n",
       "      <td>sigma_m_stdNa</td>\n",
       "      <td>all</td>\n",
       "      <td>constant</td>\n",
       "      <td>{'value': 9.8}</td>\n",
       "    </tr>\n",
       "    <tr>\n",
       "      <th>8</th>\n",
       "      <td>stdNa</td>\n",
       "      <td>k_m_stdNa</td>\n",
       "      <td>all</td>\n",
       "      <td>constant</td>\n",
       "      <td>{'value': 1.882}</td>\n",
       "    </tr>\n",
       "    <tr>\n",
       "      <th>9</th>\n",
       "      <td>stdNa</td>\n",
       "      <td>delta_m_stdNa</td>\n",
       "      <td>all</td>\n",
       "      <td>constant</td>\n",
       "      <td>{'value': 0.541}</td>\n",
       "    </tr>\n",
       "    <tr>\n",
       "      <th>10</th>\n",
       "      <td>stdNa</td>\n",
       "      <td>tau0_m_stdNa</td>\n",
       "      <td>all</td>\n",
       "      <td>constant</td>\n",
       "      <td>{'value': 0.065}</td>\n",
       "    </tr>\n",
       "    <tr>\n",
       "      <th>11</th>\n",
       "      <td>stdNa</td>\n",
       "      <td>vhalf_h_stdNa</td>\n",
       "      <td>all</td>\n",
       "      <td>constant</td>\n",
       "      <td>{'value': -60.0}</td>\n",
       "    </tr>\n",
       "    <tr>\n",
       "      <th>12</th>\n",
       "      <td>stdNa</td>\n",
       "      <td>sigma_h_stdNa</td>\n",
       "      <td>all</td>\n",
       "      <td>constant</td>\n",
       "      <td>{'value': -6.2}</td>\n",
       "    </tr>\n",
       "    <tr>\n",
       "      <th>13</th>\n",
       "      <td>stdNa</td>\n",
       "      <td>k_h_stdNa</td>\n",
       "      <td>all</td>\n",
       "      <td>constant</td>\n",
       "      <td>{'value': 0.018}</td>\n",
       "    </tr>\n",
       "    <tr>\n",
       "      <th>14</th>\n",
       "      <td>stdNa</td>\n",
       "      <td>delta_h_stdNa</td>\n",
       "      <td>all</td>\n",
       "      <td>constant</td>\n",
       "      <td>{'value': 0.395}</td>\n",
       "    </tr>\n",
       "    <tr>\n",
       "      <th>15</th>\n",
       "      <td>stdNa</td>\n",
       "      <td>tau0_h_stdNa</td>\n",
       "      <td>all</td>\n",
       "      <td>constant</td>\n",
       "      <td>{'value': 0.797}</td>\n",
       "    </tr>\n",
       "    <tr>\n",
       "      <th>16</th>\n",
       "      <td>stdNa</td>\n",
       "      <td>gbar_stdNa</td>\n",
       "      <td>all</td>\n",
       "      <td>constant</td>\n",
       "      <td>{'value': 0.05}</td>\n",
       "    </tr>\n",
       "    <tr>\n",
       "      <th>17</th>\n",
       "      <td>stdNa</td>\n",
       "      <td>q10_stdNa</td>\n",
       "      <td>all</td>\n",
       "      <td>constant</td>\n",
       "      <td>{'value': 2.3}</td>\n",
       "    </tr>\n",
       "    <tr>\n",
       "      <th>18</th>\n",
       "      <td>stdNa</td>\n",
       "      <td>temp_stdNa</td>\n",
       "      <td>all</td>\n",
       "      <td>constant</td>\n",
       "      <td>{'value': 23}</td>\n",
       "    </tr>\n",
       "    <tr>\n",
       "      <th>19</th>\n",
       "      <td>stdKv</td>\n",
       "      <td>vhalf_n_stdKv</td>\n",
       "      <td>all</td>\n",
       "      <td>constant</td>\n",
       "      <td>{'value': 14.164}</td>\n",
       "    </tr>\n",
       "    <tr>\n",
       "      <th>20</th>\n",
       "      <td>stdKv</td>\n",
       "      <td>sigma_n_stdKv</td>\n",
       "      <td>all</td>\n",
       "      <td>constant</td>\n",
       "      <td>{'value': 9.0}</td>\n",
       "    </tr>\n",
       "    <tr>\n",
       "      <th>21</th>\n",
       "      <td>stdKv</td>\n",
       "      <td>k_n_stdKv</td>\n",
       "      <td>all</td>\n",
       "      <td>constant</td>\n",
       "      <td>{'value': 0.123}</td>\n",
       "    </tr>\n",
       "    <tr>\n",
       "      <th>22</th>\n",
       "      <td>stdKv</td>\n",
       "      <td>delta_n_stdKv</td>\n",
       "      <td>all</td>\n",
       "      <td>constant</td>\n",
       "      <td>{'value': 0.732}</td>\n",
       "    </tr>\n",
       "    <tr>\n",
       "      <th>23</th>\n",
       "      <td>stdKv</td>\n",
       "      <td>tau0_n_stdKv</td>\n",
       "      <td>all</td>\n",
       "      <td>constant</td>\n",
       "      <td>{'value': 0.877}</td>\n",
       "    </tr>\n",
       "    <tr>\n",
       "      <th>24</th>\n",
       "      <td>stdKv</td>\n",
       "      <td>gbar_stdKv</td>\n",
       "      <td>all</td>\n",
       "      <td>constant</td>\n",
       "      <td>{'value': 0.005}</td>\n",
       "    </tr>\n",
       "    <tr>\n",
       "      <th>25</th>\n",
       "      <td>stdKv</td>\n",
       "      <td>q10_stdKv</td>\n",
       "      <td>all</td>\n",
       "      <td>constant</td>\n",
       "      <td>{'value': 2.3}</td>\n",
       "    </tr>\n",
       "    <tr>\n",
       "      <th>26</th>\n",
       "      <td>stdKv</td>\n",
       "      <td>temp_stdKv</td>\n",
       "      <td>all</td>\n",
       "      <td>constant</td>\n",
       "      <td>{'value': 23}</td>\n",
       "    </tr>\n",
       "  </tbody>\n",
       "</table>\n",
       "</div>"
      ],
      "text/plain": [
       "      Mechanism      Parameter Group Distribution Distribution params\n",
       "0   Independent             cm   all     constant        {'value': 1}\n",
       "1   Independent             Ra   all     constant      {'value': 100}\n",
       "2   Independent            ena   all     constant       {'value': 50}\n",
       "3   Independent             ek   all     constant      {'value': -77}\n",
       "4          Leak      gbar_Leak   all     constant   {'value': 0.0001}\n",
       "5          Leak         e_Leak   all     constant    {'value': -70.0}\n",
       "6         stdNa  vhalf_m_stdNa   all     constant  {'value': -32.571}\n",
       "7         stdNa  sigma_m_stdNa   all     constant      {'value': 9.8}\n",
       "8         stdNa      k_m_stdNa   all     constant    {'value': 1.882}\n",
       "9         stdNa  delta_m_stdNa   all     constant    {'value': 0.541}\n",
       "10        stdNa   tau0_m_stdNa   all     constant    {'value': 0.065}\n",
       "11        stdNa  vhalf_h_stdNa   all     constant    {'value': -60.0}\n",
       "12        stdNa  sigma_h_stdNa   all     constant     {'value': -6.2}\n",
       "13        stdNa      k_h_stdNa   all     constant    {'value': 0.018}\n",
       "14        stdNa  delta_h_stdNa   all     constant    {'value': 0.395}\n",
       "15        stdNa   tau0_h_stdNa   all     constant    {'value': 0.797}\n",
       "16        stdNa     gbar_stdNa   all     constant     {'value': 0.05}\n",
       "17        stdNa      q10_stdNa   all     constant      {'value': 2.3}\n",
       "18        stdNa     temp_stdNa   all     constant       {'value': 23}\n",
       "19        stdKv  vhalf_n_stdKv   all     constant   {'value': 14.164}\n",
       "20        stdKv  sigma_n_stdKv   all     constant      {'value': 9.0}\n",
       "21        stdKv      k_n_stdKv   all     constant    {'value': 0.123}\n",
       "22        stdKv  delta_n_stdKv   all     constant    {'value': 0.732}\n",
       "23        stdKv   tau0_n_stdKv   all     constant    {'value': 0.877}\n",
       "24        stdKv     gbar_stdKv   all     constant    {'value': 0.005}\n",
       "25        stdKv      q10_stdKv   all     constant      {'value': 2.3}\n",
       "26        stdKv     temp_stdKv   all     constant       {'value': 23}"
      ]
     },
     "execution_count": 21,
     "metadata": {},
     "output_type": "execute_result"
    }
   ],
   "source": [
    "model.df_params"
   ]
  },
  {
   "cell_type": "code",
   "execution_count": 22,
   "metadata": {},
   "outputs": [],
   "source": [
    "# model._cell.nodes"
   ]
  },
  {
   "cell_type": "code",
   "execution_count": 23,
   "metadata": {},
   "outputs": [],
   "source": [
    "# model.sec_tree[5]._ref.nodes"
   ]
  },
  {
   "cell_type": "code",
   "execution_count": 24,
   "metadata": {},
   "outputs": [
    {
     "data": {
      "image/png": "[encoded data removed]",
      "text/plain": [
       "<Figure size 1000x1000 with 1 Axes>"
      ]
     },
     "metadata": {},
     "output_type": "display_data"
    }
   ],
   "source": [
    "model.sec_tree.plot(annotate=True)"
   ]
  },
  {
   "cell_type": "code",
   "execution_count": 25,
   "metadata": {},
   "outputs": [
    {
     "name": "stdout",
     "output_type": "stream",
     "text": [
      "IClamp added to sec JaxleySection(idx=0) at loc 0.5.\n"
     ]
    }
   ],
   "source": [
    "model.add_iclamp(sec=model.sec_tree[0], loc=0.5, amp=0.2, dur=800, delay=100)"
   ]
  },
  {
   "cell_type": "code",
   "execution_count": 26,
   "metadata": {},
   "outputs": [
    {
     "name": "stdout",
     "output_type": "stream",
     "text": [
      "Added 1 recordings. See `.recordings` for details.\n"
     ]
    }
   ],
   "source": [
    "model.simulator.add_recording(sec=model.sec_tree[0], loc=0.5)"
   ]
  },
  {
   "cell_type": "code",
   "execution_count": 27,
   "metadata": {},
   "outputs": [],
   "source": [
    "# model.simulator.add_recording(sec=model.sec_tree[-1], loc=0.5)"
   ]
  },
  {
   "cell_type": "code",
   "execution_count": 28,
   "metadata": {},
   "outputs": [],
   "source": [
    "model.mechanisms['stdNa'].set_tadj(37)\n",
    "model.mechanisms['stdKv'].set_tadj(37)"
   ]
  },
  {
   "cell_type": "code",
   "execution_count": 29,
   "metadata": {},
   "outputs": [
    {
     "name": "stdout",
     "output_type": "stream",
     "text": [
      "Added 1 external_states. See `.externals` for details.\n"
     ]
    }
   ],
   "source": [
    "model.simulator.run(duration=1000)"
   ]
  },
  {
   "cell_type": "code",
   "execution_count": 30,
   "metadata": {},
   "outputs": [
    {
     "data": {
      "text/plain": [
       "Text(0.5, 1.0, 'Jaxley')"
      ]
     },
     "execution_count": 30,
     "metadata": {},
     "output_type": "execute_result"
    },
    {
     "data": {
      "image/png": "[encoded data removed]",
      "text/plain": [
       "<Figure size 640x480 with 1 Axes>"
      ]
     },
     "metadata": {},
     "output_type": "display_data"
    }
   ],
   "source": [
    "model.simulator.plot_voltage()\n",
    "plt.title(model.simulator_name)"
   ]
  },
  {
   "cell_type": "code",
   "execution_count": 31,
   "metadata": {},
   "outputs": [
    {
     "data": {
      "text/plain": [
       "Text(0.5, 1.0, 'NEURON')"
      ]
     },
     "execution_count": 31,
     "metadata": {},
     "output_type": "execute_result"
    },
    {
     "data": {
      "image/png": "[encoded data removed]",
      "text/plain": [
       "<Figure size 640x480 with 1 Axes>"
      ]
     },
     "metadata": {},
     "output_type": "display_data"
    }
   ],
   "source": [
    "model.simulator.plot_voltage()\n",
    "plt.title(model.simulator_name)"
   ]
  }
 ],
 "metadata": {
  "kernelspec": {
   "display_name": "dendrotweaks",
   "language": "python",
   "name": "python3"
  },
  "language_info": {
   "codemirror_mode": {
    "name": "ipython",
    "version": 3
   },
   "file_extension": ".py",
   "mimetype": "text/x-python",
   "name": "python",
   "nbconvert_exporter": "python",
   "pygments_lexer": "ipython3",
   "version": "3.11.11"
  }
 },
 "nbformat": 4,
 "nbformat_minor": 2
}
