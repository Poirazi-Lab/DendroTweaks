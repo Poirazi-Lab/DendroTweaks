{
 "cells": [
  {
   "cell_type": "code",
   "execution_count": 1,
   "metadata": {},
   "outputs": [
    {
     "data": {
      "text/plain": [
       "'0.2.0'"
      ]
     },
     "execution_count": 1,
     "metadata": {},
     "output_type": "execute_result"
    }
   ],
   "source": [
    "import dendrotweaks as dd\n",
    "dd.__version__"
   ]
  },
  {
   "cell_type": "code",
   "execution_count": null,
   "metadata": {},
   "outputs": [],
   "source": [
    "reader = dd.biophys.io.MODFileReader()\n",
    "parser = dd.biophys.io.MODFileParser()\n",
    "generator = dd.biophys.io.PythonCodeGenerator()"
   ]
  },
  {
   "cell_type": "code",
   "execution_count": null,
   "metadata": {},
   "outputs": [],
   "source": [
    "path_to_mod_file = '/home/roman/Documents/code/DendroTweaksLab/DendroTweaks/examples/Hay_2011/biophys/mod/CaHVA.mod'\n",
    "path_to_mod_file = '/home/roman/Documents/code/DendroTweaksLab/DendroTweaks/examples/Park_2019/biophys/mod/Kv.mod'"
   ]
  },
  {
   "cell_type": "code",
   "execution_count": 4,
   "metadata": {},
   "outputs": [],
   "source": [
    "reader.read_file(path_to_mod_file)"
   ]
  },
  {
   "cell_type": "code",
   "execution_count": 5,
   "metadata": {},
   "outputs": [],
   "source": [
    "reader.preprocess()"
   ]
  },
  {
   "cell_type": "code",
   "execution_count": 6,
   "metadata": {},
   "outputs": [
    {
     "name": "stdout",
     "output_type": "stream",
     "text": [
      "Split content into blocks:\n",
      "    1 - TITLE\n",
      "    1 - COMMENT\n",
      "    1 - NEURON\n",
      "    1 - UNITS\n",
      "    1 - PARAMETER\n",
      "    1 - ASSIGNED\n",
      "    1 - STATE\n",
      "    1 - BREAKPOINT\n",
      "    1 - DERIVATIVE\n",
      "    1 - INITIAL\n",
      "    1 - FUNCTION\n",
      "    1 - PROCEDURE\n",
      "    0 - KINETIC\n"
     ]
    }
   ],
   "source": [
    "blocks = reader.get_blocks()"
   ]
  },
  {
   "cell_type": "code",
   "execution_count": 7,
   "metadata": {},
   "outputs": [
    {
     "name": "stdout",
     "output_type": "stream",
     "text": [
      "Parsed TITLE block\n",
      "Parsed COMMENT block\n",
      "Parsed NEURON block\n",
      "Parsed UNITS block\n",
      "Parsed PARAMETER block\n",
      "Parsed ASSIGNED block\n",
      "Parsed STATE block\n",
      "Parsed BREAKPOINT block\n",
      "Parsed DERIVATIVE block\n",
      "Parsed INITIAL block\n",
      "Parsed FUNCTION block\n",
      "Parsed PROCEDURE block\n",
      "Parsed KINETIC block\n"
     ]
    }
   ],
   "source": [
    "parser.parse(blocks)"
   ]
  },
  {
   "cell_type": "code",
   "execution_count": 8,
   "metadata": {},
   "outputs": [],
   "source": [
    "parser.postprocess()"
   ]
  },
  {
   "cell_type": "code",
   "execution_count": 9,
   "metadata": {},
   "outputs": [],
   "source": [
    "ast = parser.get_ast()"
   ]
  },
  {
   "cell_type": "code",
   "execution_count": 10,
   "metadata": {},
   "outputs": [
    {
     "data": {
      "text/plain": [
       "{'TITLE': ' Kv_Park_ref',\n",
       " 'COMMENT': '\\n'\n",
       "            '26 Ago 2002 Modification of original channel to allow variable '\n",
       "            'time step and to correct an initialization error.\\n'\n",
       "            '    Done by Michael Hines(michael.hines@yale.e) and Ruggero '\n",
       "            'Scorcioni(rscorcio@gmu.edu) at EU Advance Course in Computational '\n",
       "            'Neuroscience. Obidos, Portugal\\n'\n",
       "            '\\n'\n",
       "            'kv.mod\\n'\n",
       "            '\\n'\n",
       "            'Potassium channel, Hodgkin-Huxley style kinetics\\n'\n",
       "            'Kinetic rates based roughly on Sah et al. and Hamill et al. '\n",
       "            '(1991)\\n'\n",
       "            '\\n'\n",
       "            'Author\\n',\n",
       " 'NEURON': {'suffix': 'Kv',\n",
       "            'useion': [{'ion': 'k', 'read': ['ek'], 'write': ['ik']}],\n",
       "            'range': ['gbar', 'i', 'v12', 'q']},\n",
       " 'UNITS': {'mA': 'milliamp', 'mV': 'millivolt', 'S': 'siemens', 'um': 'micron'},\n",
       " 'PARAMETER': [{'name': 'gbar', 'value': 0.0, 'unit': 'S/cm2'},\n",
       "               {'name': 'Ra', 'value': 0.02, 'unit': '/mV/ms'},\n",
       "               {'name': 'Rb', 'value': 0.006, 'unit': '/mV/ms'},\n",
       "               {'name': 'v12', 'value': 25, 'unit': 'mV'},\n",
       "               {'name': 'q', 'value': 9, 'unit': 'mV'},\n",
       "               {'name': 'temp', 'value': 23, 'unit': 'degC'},\n",
       "               {'name': 'q10', 'value': 2.3, 'unit': '1'}],\n",
       " 'ASSIGNED': [{'name': 'v', 'unit': 'mV'},\n",
       "              {'name': 'i', 'unit': 'mA/cm2'},\n",
       "              {'name': 'ik', 'unit': 'mA/cm2'},\n",
       "              {'name': 'gk', 'unit': 'S/cm2'},\n",
       "              {'name': 'ek', 'unit': 'mV'},\n",
       "              {'name': 'ninf', 'unit': '1'},\n",
       "              {'name': 'ntau', 'unit': 'ms'},\n",
       "              {'name': 'tadj', 'unit': '1'},\n",
       "              {'name': 'celsius', 'unit': 'degC'}],\n",
       " 'STATE': {'n': {'power': 1}},\n",
       " 'BREAKPOINT': {'solve_stmt': {'solve': 'states', 'method': 'cnexp'},\n",
       "                'statements': [{'assigned_var': 'gk',\n",
       "                                'expression': '(tadj * gbar) * n'},\n",
       "                               {'assigned_var': 'i',\n",
       "                                'expression': 'gk * (v - ek)'},\n",
       "                               {'assigned_var': 'ik', 'expression': 'i'}]},\n",
       " 'DERIVATIVE': {'name': 'states',\n",
       "                'func_calls': [{'rates': ['v']}],\n",
       "                'statements': [{'assigned_var': 'n',\n",
       "                                'expression': '(ninf - n) / ntau'}]},\n",
       " 'INITIAL': {'statements': [{'rates': ['v']},\n",
       "                            {'assigned_var': 'n', 'expression': 'ninf'}]},\n",
       " 'FUNCTION': [{'signature': {'name': 'rateconst',\n",
       "                             'params': [{'name': 'v', 'unit': 'mV'},\n",
       "                                        {'name': 'r', 'unit': '/mV/ms'},\n",
       "                                        {'name': 'th', 'unit': 'mV'},\n",
       "                                        {'name': 'q', 'unit': 'mV'}],\n",
       "                             'returned_unit': '/ms'},\n",
       "               'locals': [],\n",
       "               'statements': [{'assigned_var': 'rateconst',\n",
       "                               'expression': '(r * (v - th)) / (1 - '\n",
       "                                             'np.exp((-(v - th) / q)))'}]}],\n",
       " 'PROCEDURE': [{'signature': {'name': 'rates',\n",
       "                              'params': [{'name': 'v', 'unit': 'mV'}]},\n",
       "                'locals': ['alpn', 'betn'],\n",
       "                'statements': [{'assigned_var': 'tadj',\n",
       "                                'expression': 'q10 ** ((celsius - temp) / 10)'},\n",
       "                               {'assigned_var': 'alpn',\n",
       "                                'expression': 'rateconst(v, Ra, v12, q)'},\n",
       "                               {'assigned_var': 'betn',\n",
       "                                'expression': 'rateconst(v, -Rb, v12, -q)'},\n",
       "                               {'assigned_var': 'nTau',\n",
       "                                'expression': '1 / (tadj * (alpn + betn))'},\n",
       "                               {'assigned_var': 'nInf',\n",
       "                                'expression': 'alpn / (alpn + betn)'}]}]}"
      ]
     },
     "execution_count": 10,
     "metadata": {},
     "output_type": "execute_result"
    }
   ],
   "source": [
    "ast"
   ]
  }
 ],
 "metadata": {
  "kernelspec": {
   "display_name": "dendrotweaks",
   "language": "python",
   "name": "python3"
  },
  "language_info": {
   "codemirror_mode": {
    "name": "ipython",
    "version": 3
   },
   "file_extension": ".py",
   "mimetype": "text/x-python",
   "name": "python",
   "nbconvert_exporter": "python",
   "pygments_lexer": "ipython3",
   "version": "3.11.11"
  }
 },
 "nbformat": 4,
 "nbformat_minor": 2
}
