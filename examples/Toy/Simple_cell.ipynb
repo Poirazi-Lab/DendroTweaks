{
 "cells": [
  {
   "cell_type": "code",
   "execution_count": 1,
   "id": "6d492bb0",
   "metadata": {},
   "outputs": [],
   "source": [
    "import numpy as np\n",
    "import matplotlib.pyplot as plt\n",
    "import os"
   ]
  },
  {
   "cell_type": "code",
   "execution_count": 2,
   "id": "5987cbba",
   "metadata": {},
   "outputs": [
    {
     "data": {
      "text/plain": [
       "'0.4.2'"
      ]
     },
     "execution_count": 2,
     "metadata": {},
     "output_type": "execute_result"
    }
   ],
   "source": [
    "import dendrotweaks as dd\n",
    "dd.__version__"
   ]
  },
  {
   "cell_type": "code",
   "execution_count": 3,
   "id": "5baf090d",
   "metadata": {},
   "outputs": [],
   "source": [
    "dd.apply_dark_theme() # Set the theme for the plots"
   ]
  },
  {
   "cell_type": "code",
   "execution_count": 4,
   "id": "cb11fab3",
   "metadata": {},
   "outputs": [
    {
     "name": "stdout",
     "output_type": "stream",
     "text": [
      "Path to model: /home/roman/Documents/code/DendroTweaksLab/DendroTweaks/examples/Toy\n",
      "Path to data: /home/roman/Documents/code/DendroTweaksLab/DendroTweaks/examples\n"
     ]
    }
   ],
   "source": [
    "path_to_model = os.getcwd()\n",
    "print(f'Path to model: {path_to_model}')\n",
    "path_to_data = os.path.dirname(path_to_model)\n",
    "print(f'Path to data: {path_to_data}')"
   ]
  },
  {
   "cell_type": "code",
   "execution_count": 5,
   "id": "50bafa3c",
   "metadata": {},
   "outputs": [],
   "source": [
    "model = dd.Model(path_to_model)"
   ]
  },
  {
   "cell_type": "code",
   "execution_count": 6,
   "id": "ba95f0e3",
   "metadata": {},
   "outputs": [
    {
     "data": {
      "text/plain": [
       "['ball-and-stick', 'point', 'simple-cell']"
      ]
     },
     "execution_count": 6,
     "metadata": {},
     "output_type": "execute_result"
    }
   ],
   "source": [
    "model.list_morphologies()"
   ]
  },
  {
   "cell_type": "code",
   "execution_count": 7,
   "id": "fcc9c653",
   "metadata": {},
   "outputs": [
    {
     "name": "stdout",
     "output_type": "stream",
     "text": [
      "Sorted PointTree(root=Point(idx=0), num_nodes=17).\n",
      "Apical dendrite is already aligned.\n",
      "Extended 6 nodes.\n",
      "Sorted PointTree(root=Point(idx=0), num_nodes=23).\n"
     ]
    }
   ],
   "source": [
    "model.load_morphology(file_name='simple-cell')"
   ]
  },
  {
   "cell_type": "code",
   "execution_count": null,
   "id": "980c1047",
   "metadata": {},
   "outputs": [],
   "source": [
    "model.define_domain(\n",
    "    domain_name='tuft', \n",
    "    sections=model.sec_tree[4:], \n",
    "    distribute=False\n",
    ")"
   ]
  },
  {
   "cell_type": "code",
   "execution_count": 9,
   "id": "512f8669",
   "metadata": {},
   "outputs": [
    {
     "data": {
      "image/png": "[encoded data removed]",
      "text/plain": [
       "<Figure size 1000x1000 with 1 Axes>"
      ]
     },
     "metadata": {},
     "output_type": "display_data"
    }
   ],
   "source": [
    "fig, ax = plt.subplots(figsize=(10, 10))\n",
    "model.sec_tree.plot(ax, \n",
    "                    show_points=True,\n",
    "                    show_lines=True,\n",
    "                    annotate=True)"
   ]
  },
  {
   "cell_type": "code",
   "execution_count": 10,
   "id": "fe24c09d",
   "metadata": {},
   "outputs": [],
   "source": [
    "# model.set_param('Ra', value=100)"
   ]
  },
  {
   "cell_type": "code",
   "execution_count": 11,
   "id": "f2e8105c",
   "metadata": {},
   "outputs": [],
   "source": [
    "# model.set_segmentation(d_lambda=0.1)\n",
    "# len(model.seg_tree)"
   ]
  },
  {
   "cell_type": "code",
   "execution_count": 12,
   "id": "60322d05",
   "metadata": {},
   "outputs": [
    {
     "name": "stdout",
     "output_type": "stream",
     "text": [
      "parent |   idx\n",
      "---------------\n",
      "    -1 |   •0\n",
      "     0 |   ├─•1\n",
      "     1 |   │ └─•2\n",
      "     2 |   │   └─•3\n",
      "     0 |   ├─•4\n",
      "     4 |   │ └─•5\n",
      "     5 |   │   └─•6\n",
      "     0 |   └─•7\n",
      "     7 |     └─•8\n",
      "     8 |       └─•9\n",
      "     9 |         └─•10\n",
      "    10 |           └─•11\n",
      "    11 |             ├─•12\n",
      "    12 |             │ └─•13\n",
      "    13 |             │   └─•14\n",
      "    14 |             │     ├─•15\n",
      "    15 |             │     │ └─•16\n",
      "    16 |             │     │   └─•17\n",
      "    14 |             │     └─•18\n",
      "    18 |             │       └─•19\n",
      "    19 |             │         └─•20\n",
      "    11 |             └─•21\n",
      "    21 |               └─•22\n",
      "    22 |                 └─•23\n",
      "    23 |                   ├─•24\n",
      "    24 |                   │ └─•25\n",
      "    25 |                   │   └─•26\n",
      "    23 |                   └─•27\n",
      "    27 |                     └─•28\n",
      "    28 |                       └─•29\n"
     ]
    }
   ],
   "source": [
    "model.seg_tree.topology()"
   ]
  },
  {
   "cell_type": "markdown",
   "id": "15dd63cc",
   "metadata": {},
   "source": [
    "## Path lengths\n",
    "\n",
    "Validate correctness of path length computation"
   ]
  },
  {
   "cell_type": "code",
   "execution_count": 29,
   "id": "b95dcbe8",
   "metadata": {},
   "outputs": [
    {
     "name": "stdout",
     "output_type": "stream",
     "text": [
      " Sec  Length (μm)  Path length (μm)\n",
      "----- ------------ ---------------\n",
      "  0   20.0         0.000          \n",
      "  1   127.279      0.000          \n",
      "  2   127.279      0.000          \n",
      "  3   290.0        0.000          \n",
      "  4   141.421      290.000        \n",
      "  5   100.0        431.421        \n",
      "  6   100.0        431.421        \n",
      "  7   141.421      290.000        \n",
      "  8   100.0        431.421        \n",
      "  9   100.0        431.421        \n"
     ]
    }
   ],
   "source": [
    "print(f\"{'Sec':^5} {'Length (μm)':^12} {'Path length (μm)':^15}\")\n",
    "print(f\"{'-'*5} {'-'*12} {'-'*15}\")\n",
    "for sec in model.sec_tree:\n",
    "    print(f\"{sec.idx:^5} {round(sec.length, 3):<12} {sec.path_distance():<15.3f}\")"
   ]
  },
  {
   "cell_type": "code",
   "execution_count": 27,
   "id": "1fbc1a14",
   "metadata": {},
   "outputs": [
    {
     "name": "stdout",
     "output_type": "stream",
     "text": [
      " Sec  Length (μm)  Path length within domain (μm)\n",
      "----- ------------ ------------------------------\n",
      "  0   20.0         0.000                         \n",
      "  1   127.279      0.000                         \n",
      "  2   127.279      0.000                         \n",
      "  3   290.0        0.000                         \n",
      "  4   141.421      0.000                         \n",
      "  5   100.0        141.421                       \n",
      "  6   100.0        141.421                       \n",
      "  7   141.421      0.000                         \n",
      "  8   100.0        141.421                       \n",
      "  9   100.0        141.421                       \n"
     ]
    }
   ],
   "source": [
    "print(f\"{'Sec':^5} {'Length (μm)':^12} {'Path length within domain (μm)':^30}\")\n",
    "print(f\"{'-'*5} {'-'*12} {'-'*30}\")\n",
    "for sec in model.sec_tree:\n",
    "    print(f\"{sec.idx:^5} {round(sec.length, 3):<12} {sec.path_distance(within_domain=True):<30.3f}\")"
   ]
  },
  {
   "cell_type": "code",
   "execution_count": 25,
   "id": "5cee69dc",
   "metadata": {},
   "outputs": [
    {
     "name": "stdout",
     "output_type": "stream",
     "text": [
      " Sec  x position  Path length (μm) \n",
      "----- ---------- ------------------\n",
      "  0   0.5        0.000             \n",
      "  1   0.167      21.213            \n",
      "  1   0.5        63.640            \n",
      "  1   0.833      106.066           \n",
      "  2   0.167      21.213            \n",
      "  2   0.5        63.640            \n",
      "  2   0.833      106.066           \n",
      "  3   0.1        29.000            \n",
      "  3   0.3        87.000            \n",
      "  3   0.5        145.000           \n",
      "  3   0.7        203.000           \n",
      "  3   0.9        261.000           \n",
      "  4   0.167      313.570           \n",
      "  4   0.5        360.711           \n",
      "  4   0.833      407.851           \n",
      "  5   0.167      448.088           \n",
      "  5   0.5        481.421           \n",
      "  5   0.833      514.755           \n",
      "  6   0.167      448.088           \n",
      "  6   0.5        481.421           \n",
      "  6   0.833      514.755           \n",
      "  7   0.167      313.570           \n",
      "  7   0.5        360.711           \n",
      "  7   0.833      407.851           \n",
      "  8   0.167      448.088           \n",
      "  8   0.5        481.421           \n",
      "  8   0.833      514.755           \n",
      "  9   0.167      448.088           \n",
      "  9   0.5        481.421           \n",
      "  9   0.833      514.755           \n"
     ]
    }
   ],
   "source": [
    "print(f\"{'Sec':^5} {'x position':^10} {'Path length (μm)':^18}\")\n",
    "print(f\"{'-'*5} {'-'*10} {'-'*18}\")\n",
    "for seg in model.seg_tree:\n",
    "    print(f\"{seg._section.idx:^5} {round(seg.x, 3):<10} {seg.path_distance():<18.3f}\")"
   ]
  },
  {
   "cell_type": "code",
   "execution_count": 16,
   "id": "ec728e93",
   "metadata": {},
   "outputs": [
    {
     "name": "stdout",
     "output_type": "stream",
     "text": [
      "apic\n"
     ]
    },
    {
     "data": {
      "text/plain": [
       "[29.0, 87.0, 145.0, 203.0, 261.0]"
      ]
     },
     "execution_count": 16,
     "metadata": {},
     "output_type": "execute_result"
    }
   ],
   "source": [
    "print(model.sec_tree[3].domain)\n",
    "\n",
    "model.sec_tree[3].seg_centers"
   ]
  }
 ],
 "metadata": {
  "kernelspec": {
   "display_name": "dendrotweakstest",
   "language": "python",
   "name": "python3"
  },
  "language_info": {
   "codemirror_mode": {
    "name": "ipython",
    "version": 3
   },
   "file_extension": ".py",
   "mimetype": "text/x-python",
   "name": "python",
   "nbconvert_exporter": "python",
   "pygments_lexer": "ipython3",
   "version": "3.11.11"
  }
 },
 "nbformat": 4,
 "nbformat_minor": 5
}
