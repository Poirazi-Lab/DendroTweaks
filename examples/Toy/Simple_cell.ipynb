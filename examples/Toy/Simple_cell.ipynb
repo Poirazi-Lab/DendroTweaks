{
 "cells": [
  {
   "cell_type": "code",
   "execution_count": 1,
   "id": "6d492bb0",
   "metadata": {},
   "outputs": [],
   "source": [
    "import numpy as np\n",
    "import matplotlib.pyplot as plt\n",
    "import os"
   ]
  },
  {
   "cell_type": "code",
   "execution_count": 2,
   "id": "5987cbba",
   "metadata": {},
   "outputs": [
    {
     "data": {
      "text/plain": [
       "'0.4.6'"
      ]
     },
     "execution_count": 2,
     "metadata": {},
     "output_type": "execute_result"
    }
   ],
   "source": [
    "import dendrotweaks as dd\n",
    "dd.__version__"
   ]
  },
  {
   "cell_type": "code",
   "execution_count": 3,
   "id": "5baf090d",
   "metadata": {},
   "outputs": [],
   "source": [
    "dd.apply_dark_theme() # Set the theme for the plots"
   ]
  },
  {
   "cell_type": "markdown",
   "id": "44eff7cf",
   "metadata": {},
   "source": [
    "# Model"
   ]
  },
  {
   "cell_type": "code",
   "execution_count": 4,
   "id": "cb11fab3",
   "metadata": {},
   "outputs": [
    {
     "name": "stdout",
     "output_type": "stream",
     "text": [
      "Path to model: /home/roman/Documents/code/DendroTweaksLab/DendroTweaks/examples/Toy\n",
      "Path to data: /home/roman/Documents/code/DendroTweaksLab/DendroTweaks/examples\n"
     ]
    }
   ],
   "source": [
    "path_to_model = os.getcwd()\n",
    "print(f'Path to model: {path_to_model}')\n",
    "path_to_data = os.path.dirname(path_to_model)\n",
    "print(f'Path to data: {path_to_data}')"
   ]
  },
  {
   "cell_type": "code",
   "execution_count": 5,
   "id": "50bafa3c",
   "metadata": {},
   "outputs": [],
   "source": [
    "model = dd.Model(path_to_model)"
   ]
  },
  {
   "cell_type": "code",
   "execution_count": 6,
   "id": "ba95f0e3",
   "metadata": {},
   "outputs": [
    {
     "data": {
      "text/plain": [
       "['simple-cell-ais', 'ball-and-stick', 'point', 'simple-cell']"
      ]
     },
     "execution_count": 6,
     "metadata": {},
     "output_type": "execute_result"
    }
   ],
   "source": [
    "model.list_morphologies()"
   ]
  },
  {
   "cell_type": "markdown",
   "id": "cafb270d",
   "metadata": {},
   "source": [
    "Let's first load and visualize the morphology."
   ]
  },
  {
   "cell_type": "code",
   "execution_count": 7,
   "id": "fcc9c653",
   "metadata": {},
   "outputs": [
    {
     "name": "stdout",
     "output_type": "stream",
     "text": [
      "Sorted PointTree(root=Point(idx=0), num_nodes=19).\n",
      "Apical dendrite is already aligned.\n",
      "Extended 6 nodes.\n",
      "Sorted PointTree(root=Point(idx=0), num_nodes=25).\n"
     ]
    }
   ],
   "source": [
    "model.load_morphology(file_name='simple-cell-ais')"
   ]
  },
  {
   "cell_type": "code",
   "execution_count": 8,
   "id": "512f8669",
   "metadata": {},
   "outputs": [
    {
     "data": {
      "image/png": "[encoded data removed]",
      "text/plain": [
       "<Figure size 800x800 with 1 Axes>"
      ]
     },
     "metadata": {},
     "output_type": "display_data"
    }
   ],
   "source": [
    "fig, ax = plt.subplots(figsize=(8, 8))\n",
    "model.sec_tree.plot(ax, \n",
    "                    show_points=True,\n",
    "                    show_lines=True,\n",
    "                    annotate=True)"
   ]
  },
  {
   "cell_type": "markdown",
   "id": "25a28d1e",
   "metadata": {},
   "source": [
    "We will also update the segmentation (nseg) using the d_lambda rule:"
   ]
  },
  {
   "cell_type": "code",
   "execution_count": 9,
   "id": "fe24c09d",
   "metadata": {},
   "outputs": [],
   "source": [
    "model.set_param('cm', value=1)\n",
    "model.set_param('Ra', value=100)"
   ]
  },
  {
   "cell_type": "code",
   "execution_count": 10,
   "id": "f2e8105c",
   "metadata": {},
   "outputs": [
    {
     "data": {
      "text/plain": [
       "47"
      ]
     },
     "execution_count": 10,
     "metadata": {},
     "output_type": "execute_result"
    }
   ],
   "source": [
    "model.set_segmentation(d_lambda=0.1)\n",
    "len(model.seg_tree)"
   ]
  },
  {
   "cell_type": "markdown",
   "id": "16d27881",
   "metadata": {},
   "source": [
    "# Mechanisms"
   ]
  },
  {
   "cell_type": "markdown",
   "id": "fed33b00",
   "metadata": {},
   "source": [
    "we will add some default mechanisms, from which we will need only the Leak channel. Note that in DendroTweaks the NEURON `pas` mechanism is replaced by a `Leak` channel with `gbar_Leak` and `e_Leak` parameters."
   ]
  },
  {
   "cell_type": "code",
   "execution_count": 11,
   "id": "10a0a426",
   "metadata": {},
   "outputs": [],
   "source": [
    "model.add_default_mechanisms() # Leak, Ca dynamics and Synapses"
   ]
  },
  {
   "cell_type": "markdown",
   "id": "eeb534ac",
   "metadata": {},
   "source": [
    "Next, let's list all available user-defined mechanisms in the `biophys/mod` directory. "
   ]
  },
  {
   "cell_type": "code",
   "execution_count": 12,
   "id": "1f801371",
   "metadata": {},
   "outputs": [
    {
     "data": {
      "text/plain": [
       "['stdNa',\n",
       " 'NaKinetic',\n",
       " 'Na',\n",
       " 'stdKv',\n",
       " 'KCa',\n",
       " 'Kv',\n",
       " 'Ka',\n",
       " 'CaHVA',\n",
       " 'Km',\n",
       " 'CaLVA']"
      ]
     },
     "execution_count": 12,
     "metadata": {},
     "output_type": "execute_result"
    }
   ],
   "source": [
    "model.list_mechanisms()"
   ]
  },
  {
   "cell_type": "markdown",
   "id": "154c8ed4",
   "metadata": {},
   "source": [
    "We will add only the sodium (Na) and potasiium (Kv) channels. "
   ]
  },
  {
   "cell_type": "code",
   "execution_count": 13,
   "id": "7f3d0379",
   "metadata": {},
   "outputs": [
    {
     "name": "stdout",
     "output_type": "stream",
     "text": [
      "Saved content to /home/roman/Documents/code/DendroTweaksLab/DendroTweaks/examples/Toy/biophys/python/Na.py\n",
      "Saved content to /home/roman/Documents/code/DendroTweaksLab/DendroTweaks/examples/Toy/biophys/python/Kv.py\n"
     ]
    }
   ],
   "source": [
    "for mech in ['Na', 'Kv']:\n",
    "    model.add_mechanism(mech)"
   ]
  },
  {
   "cell_type": "code",
   "execution_count": 14,
   "id": "a5fc498c",
   "metadata": {},
   "outputs": [
    {
     "data": {
      "text/plain": [
       "{'Leak': <Mechanism(Leak)>,\n",
       " 'CaDyn': <Mechanism(CaDyn)>,\n",
       " 'Na': <Mechanism(Na)>,\n",
       " 'Kv': <Mechanism(Kv)>}"
      ]
     },
     "execution_count": 14,
     "metadata": {},
     "output_type": "execute_result"
    }
   ],
   "source": [
    "model.mechanisms"
   ]
  },
  {
   "cell_type": "markdown",
   "id": "1bba2f40",
   "metadata": {},
   "source": [
    "We need to insert the mechanisms into all domains."
   ]
  },
  {
   "cell_type": "code",
   "execution_count": 15,
   "id": "67ba2d68",
   "metadata": {},
   "outputs": [],
   "source": [
    "for domain_name in model.domains:\n",
    "    for mech_name in ['Leak', 'Na', 'Kv']:\n",
    "            model.insert_mechanism(mech_name, domain_name, distribute=False)"
   ]
  },
  {
   "cell_type": "markdown",
   "id": "cbbcf8d1",
   "metadata": {},
   "source": [
    "# Parameters"
   ]
  },
  {
   "cell_type": "markdown",
   "id": "25d020b2",
   "metadata": {},
   "source": [
    "We will use the segment groups created for each of the domains by default."
   ]
  },
  {
   "cell_type": "code",
   "execution_count": 16,
   "id": "2baaf39b",
   "metadata": {},
   "outputs": [
    {
     "data": {
      "text/plain": [
       "{'all': SegmentGroup(\"all\", domains=['apic', 'axon', 'dend', 'soma']),\n",
       " 'apical': SegmentGroup(\"apical\", domains=['apic']),\n",
       " 'axonal': SegmentGroup(\"axonal\", domains=['axon']),\n",
       " 'dendritic': SegmentGroup(\"dendritic\", domains=['dend']),\n",
       " 'somatic': SegmentGroup(\"somatic\", domains=['soma'])}"
      ]
     },
     "execution_count": 16,
     "metadata": {},
     "output_type": "execute_result"
    }
   ],
   "source": [
    "model.groups"
   ]
  },
  {
   "cell_type": "code",
   "execution_count": 17,
   "id": "59fcb278",
   "metadata": {},
   "outputs": [],
   "source": [
    "model.set_param('gbar_Leak', value=0.00015)\n",
    "\n",
    "# Na\n",
    "model.set_param('gbar_Na', group_name='somatic', distr_type='constant', value=0.05)\n",
    "model.set_param('gbar_Na', group_name='axonal', distr_type='constant', value=0.05)\n",
    "\n",
    "model.set_param('gbar_Na', group_name='dendritic', distr_type='constant', value=0.03)\n",
    "model.set_param('gbar_Na', group_name='apical', distr_type='constant', value=0.03)\n",
    "\n",
    "# Kv\n",
    "model.set_param('gbar_Kv', group_name='somatic', distr_type='constant', value=0.005)\n",
    "model.set_param('gbar_Kv', group_name='axonal', distr_type='constant', value=0.005)\n",
    "\n",
    "model.set_param('gbar_Kv', group_name='dendritic', distr_type='constant', value=0.0015)\n",
    "model.set_param('gbar_Kv', group_name='apical', distr_type='constant', value=0.0015)"
   ]
  },
  {
   "cell_type": "markdown",
   "id": "c8440b87",
   "metadata": {},
   "source": [
    "We can now display the model parameters as a dataframe. Note that alongside the channel conductances we explicitly defined, there are also kinetic parameters with constant values across all segments, which are derived from the MOD files."
   ]
  },
  {
   "cell_type": "code",
   "execution_count": 18,
   "id": "2b6ed9ac",
   "metadata": {},
   "outputs": [
    {
     "data": {
      "text/html": [
       "<div>\n",
       "<style scoped>\n",
       "    .dataframe tbody tr th:only-of-type {\n",
       "        vertical-align: middle;\n",
       "    }\n",
       "\n",
       "    .dataframe tbody tr th {\n",
       "        vertical-align: top;\n",
       "    }\n",
       "\n",
       "    .dataframe thead th {\n",
       "        text-align: right;\n",
       "    }\n",
       "</style>\n",
       "<table border=\"1\" class=\"dataframe\">\n",
       "  <thead>\n",
       "    <tr style=\"text-align: right;\">\n",
       "      <th></th>\n",
       "      <th>Mechanism</th>\n",
       "      <th>Parameter</th>\n",
       "      <th>Group</th>\n",
       "      <th>Distribution</th>\n",
       "      <th>Distribution params</th>\n",
       "    </tr>\n",
       "  </thead>\n",
       "  <tbody>\n",
       "    <tr>\n",
       "      <th>0</th>\n",
       "      <td>Independent</td>\n",
       "      <td>cm</td>\n",
       "      <td>all</td>\n",
       "      <td>constant</td>\n",
       "      <td>{'value': 1}</td>\n",
       "    </tr>\n",
       "    <tr>\n",
       "      <th>1</th>\n",
       "      <td>Independent</td>\n",
       "      <td>Ra</td>\n",
       "      <td>all</td>\n",
       "      <td>constant</td>\n",
       "      <td>{'value': 100}</td>\n",
       "    </tr>\n",
       "    <tr>\n",
       "      <th>2</th>\n",
       "      <td>Independent</td>\n",
       "      <td>ena</td>\n",
       "      <td>all</td>\n",
       "      <td>constant</td>\n",
       "      <td>{'value': 50}</td>\n",
       "    </tr>\n",
       "    <tr>\n",
       "      <th>3</th>\n",
       "      <td>Independent</td>\n",
       "      <td>ek</td>\n",
       "      <td>all</td>\n",
       "      <td>constant</td>\n",
       "      <td>{'value': -77}</td>\n",
       "    </tr>\n",
       "    <tr>\n",
       "      <th>4</th>\n",
       "      <td>Leak</td>\n",
       "      <td>gbar_Leak</td>\n",
       "      <td>all</td>\n",
       "      <td>constant</td>\n",
       "      <td>{'value': 0.00015}</td>\n",
       "    </tr>\n",
       "    <tr>\n",
       "      <th>5</th>\n",
       "      <td>Leak</td>\n",
       "      <td>e_Leak</td>\n",
       "      <td>all</td>\n",
       "      <td>constant</td>\n",
       "      <td>{'value': -70}</td>\n",
       "    </tr>\n",
       "    <tr>\n",
       "      <th>6</th>\n",
       "      <td>Na</td>\n",
       "      <td>gbar_Na</td>\n",
       "      <td>all</td>\n",
       "      <td>constant</td>\n",
       "      <td>{'value': 0.0}</td>\n",
       "    </tr>\n",
       "    <tr>\n",
       "      <th>7</th>\n",
       "      <td>Na</td>\n",
       "      <td>gbar_Na</td>\n",
       "      <td>somatic</td>\n",
       "      <td>constant</td>\n",
       "      <td>{'value': 0.05}</td>\n",
       "    </tr>\n",
       "    <tr>\n",
       "      <th>8</th>\n",
       "      <td>Na</td>\n",
       "      <td>gbar_Na</td>\n",
       "      <td>axonal</td>\n",
       "      <td>constant</td>\n",
       "      <td>{'value': 0.05}</td>\n",
       "    </tr>\n",
       "    <tr>\n",
       "      <th>9</th>\n",
       "      <td>Na</td>\n",
       "      <td>gbar_Na</td>\n",
       "      <td>dendritic</td>\n",
       "      <td>constant</td>\n",
       "      <td>{'value': 0.03}</td>\n",
       "    </tr>\n",
       "    <tr>\n",
       "      <th>10</th>\n",
       "      <td>Na</td>\n",
       "      <td>gbar_Na</td>\n",
       "      <td>apical</td>\n",
       "      <td>constant</td>\n",
       "      <td>{'value': 0.03}</td>\n",
       "    </tr>\n",
       "    <tr>\n",
       "      <th>11</th>\n",
       "      <td>Na</td>\n",
       "      <td>Rma_Na</td>\n",
       "      <td>all</td>\n",
       "      <td>constant</td>\n",
       "      <td>{'value': 0.182}</td>\n",
       "    </tr>\n",
       "    <tr>\n",
       "      <th>12</th>\n",
       "      <td>Na</td>\n",
       "      <td>Rmb_Na</td>\n",
       "      <td>all</td>\n",
       "      <td>constant</td>\n",
       "      <td>{'value': 0.14}</td>\n",
       "    </tr>\n",
       "    <tr>\n",
       "      <th>13</th>\n",
       "      <td>Na</td>\n",
       "      <td>v12m_Na</td>\n",
       "      <td>all</td>\n",
       "      <td>constant</td>\n",
       "      <td>{'value': -30}</td>\n",
       "    </tr>\n",
       "    <tr>\n",
       "      <th>14</th>\n",
       "      <td>Na</td>\n",
       "      <td>qm_Na</td>\n",
       "      <td>all</td>\n",
       "      <td>constant</td>\n",
       "      <td>{'value': 9.8}</td>\n",
       "    </tr>\n",
       "    <tr>\n",
       "      <th>15</th>\n",
       "      <td>Na</td>\n",
       "      <td>Rhb_Na</td>\n",
       "      <td>all</td>\n",
       "      <td>constant</td>\n",
       "      <td>{'value': 0.0091}</td>\n",
       "    </tr>\n",
       "    <tr>\n",
       "      <th>16</th>\n",
       "      <td>Na</td>\n",
       "      <td>Rha_Na</td>\n",
       "      <td>all</td>\n",
       "      <td>constant</td>\n",
       "      <td>{'value': 0.024}</td>\n",
       "    </tr>\n",
       "    <tr>\n",
       "      <th>17</th>\n",
       "      <td>Na</td>\n",
       "      <td>v12ha_Na</td>\n",
       "      <td>all</td>\n",
       "      <td>constant</td>\n",
       "      <td>{'value': -45}</td>\n",
       "    </tr>\n",
       "    <tr>\n",
       "      <th>18</th>\n",
       "      <td>Na</td>\n",
       "      <td>v12hb_Na</td>\n",
       "      <td>all</td>\n",
       "      <td>constant</td>\n",
       "      <td>{'value': -70}</td>\n",
       "    </tr>\n",
       "    <tr>\n",
       "      <th>19</th>\n",
       "      <td>Na</td>\n",
       "      <td>qh_Na</td>\n",
       "      <td>all</td>\n",
       "      <td>constant</td>\n",
       "      <td>{'value': 5}</td>\n",
       "    </tr>\n",
       "    <tr>\n",
       "      <th>20</th>\n",
       "      <td>Na</td>\n",
       "      <td>v12hinf_Na</td>\n",
       "      <td>all</td>\n",
       "      <td>constant</td>\n",
       "      <td>{'value': -60}</td>\n",
       "    </tr>\n",
       "    <tr>\n",
       "      <th>21</th>\n",
       "      <td>Na</td>\n",
       "      <td>qhinf_Na</td>\n",
       "      <td>all</td>\n",
       "      <td>constant</td>\n",
       "      <td>{'value': 6.2}</td>\n",
       "    </tr>\n",
       "    <tr>\n",
       "      <th>22</th>\n",
       "      <td>Kv</td>\n",
       "      <td>gbar_Kv</td>\n",
       "      <td>all</td>\n",
       "      <td>constant</td>\n",
       "      <td>{'value': 0.0}</td>\n",
       "    </tr>\n",
       "    <tr>\n",
       "      <th>23</th>\n",
       "      <td>Kv</td>\n",
       "      <td>gbar_Kv</td>\n",
       "      <td>somatic</td>\n",
       "      <td>constant</td>\n",
       "      <td>{'value': 0.005}</td>\n",
       "    </tr>\n",
       "    <tr>\n",
       "      <th>24</th>\n",
       "      <td>Kv</td>\n",
       "      <td>gbar_Kv</td>\n",
       "      <td>axonal</td>\n",
       "      <td>constant</td>\n",
       "      <td>{'value': 0.005}</td>\n",
       "    </tr>\n",
       "    <tr>\n",
       "      <th>25</th>\n",
       "      <td>Kv</td>\n",
       "      <td>gbar_Kv</td>\n",
       "      <td>dendritic</td>\n",
       "      <td>constant</td>\n",
       "      <td>{'value': 0.0015}</td>\n",
       "    </tr>\n",
       "    <tr>\n",
       "      <th>26</th>\n",
       "      <td>Kv</td>\n",
       "      <td>gbar_Kv</td>\n",
       "      <td>apical</td>\n",
       "      <td>constant</td>\n",
       "      <td>{'value': 0.0015}</td>\n",
       "    </tr>\n",
       "    <tr>\n",
       "      <th>27</th>\n",
       "      <td>Kv</td>\n",
       "      <td>v12_Kv</td>\n",
       "      <td>all</td>\n",
       "      <td>constant</td>\n",
       "      <td>{'value': 25}</td>\n",
       "    </tr>\n",
       "    <tr>\n",
       "      <th>28</th>\n",
       "      <td>Kv</td>\n",
       "      <td>q_Kv</td>\n",
       "      <td>all</td>\n",
       "      <td>constant</td>\n",
       "      <td>{'value': 9}</td>\n",
       "    </tr>\n",
       "  </tbody>\n",
       "</table>\n",
       "</div>"
      ],
      "text/plain": [
       "      Mechanism   Parameter      Group Distribution Distribution params\n",
       "0   Independent          cm        all     constant        {'value': 1}\n",
       "1   Independent          Ra        all     constant      {'value': 100}\n",
       "2   Independent         ena        all     constant       {'value': 50}\n",
       "3   Independent          ek        all     constant      {'value': -77}\n",
       "4          Leak   gbar_Leak        all     constant  {'value': 0.00015}\n",
       "5          Leak      e_Leak        all     constant      {'value': -70}\n",
       "6            Na     gbar_Na        all     constant      {'value': 0.0}\n",
       "7            Na     gbar_Na    somatic     constant     {'value': 0.05}\n",
       "8            Na     gbar_Na     axonal     constant     {'value': 0.05}\n",
       "9            Na     gbar_Na  dendritic     constant     {'value': 0.03}\n",
       "10           Na     gbar_Na     apical     constant     {'value': 0.03}\n",
       "11           Na      Rma_Na        all     constant    {'value': 0.182}\n",
       "12           Na      Rmb_Na        all     constant     {'value': 0.14}\n",
       "13           Na     v12m_Na        all     constant      {'value': -30}\n",
       "14           Na       qm_Na        all     constant      {'value': 9.8}\n",
       "15           Na      Rhb_Na        all     constant   {'value': 0.0091}\n",
       "16           Na      Rha_Na        all     constant    {'value': 0.024}\n",
       "17           Na    v12ha_Na        all     constant      {'value': -45}\n",
       "18           Na    v12hb_Na        all     constant      {'value': -70}\n",
       "19           Na       qh_Na        all     constant        {'value': 5}\n",
       "20           Na  v12hinf_Na        all     constant      {'value': -60}\n",
       "21           Na    qhinf_Na        all     constant      {'value': 6.2}\n",
       "22           Kv     gbar_Kv        all     constant      {'value': 0.0}\n",
       "23           Kv     gbar_Kv    somatic     constant    {'value': 0.005}\n",
       "24           Kv     gbar_Kv     axonal     constant    {'value': 0.005}\n",
       "25           Kv     gbar_Kv  dendritic     constant   {'value': 0.0015}\n",
       "26           Kv     gbar_Kv     apical     constant   {'value': 0.0015}\n",
       "27           Kv      v12_Kv        all     constant       {'value': 25}\n",
       "28           Kv        q_Kv        all     constant        {'value': 9}"
      ]
     },
     "execution_count": 18,
     "metadata": {},
     "output_type": "execute_result"
    }
   ],
   "source": [
    "model.df_params"
   ]
  },
  {
   "cell_type": "code",
   "execution_count": 19,
   "id": "23576a27",
   "metadata": {},
   "outputs": [],
   "source": [
    "model.set_param('e_Leak', value=-70)\n",
    "model.set_param('ena', value=50)\n",
    "model.set_param('ek', value=-77)"
   ]
  },
  {
   "cell_type": "code",
   "execution_count": 20,
   "id": "e6c39b5a",
   "metadata": {},
   "outputs": [],
   "source": [
    "model.set_param('temperature', value=37.0)\n",
    "model.set_param('v_init', value=-70.0)"
   ]
  },
  {
   "cell_type": "markdown",
   "id": "64ae96f5",
   "metadata": {},
   "source": [
    "Finally, we can export the parameters to a JSON file: `biophys/simple_cell_biophys.json`"
   ]
  },
  {
   "cell_type": "code",
   "execution_count": 21,
   "id": "fb5eeb63",
   "metadata": {},
   "outputs": [],
   "source": [
    "model.export_biophys(file_name='simple_cell_biophys')"
   ]
  },
  {
   "cell_type": "markdown",
   "id": "59ed75bd",
   "metadata": {},
   "source": [
    "# Simulation"
   ]
  },
  {
   "cell_type": "code",
   "execution_count": 22,
   "id": "6fce0ebe",
   "metadata": {},
   "outputs": [],
   "source": [
    "soma = model.sec_tree[0]\n",
    "model.remove_all_stimuli()\n",
    "model.remove_all_recordings()\n",
    "\n",
    "model.add_recording(soma, loc=0.5)\n",
    "model.add_iclamp(soma, loc=0.5, amp=0.05, delay=100, dur=800)"
   ]
  },
  {
   "cell_type": "code",
   "execution_count": 23,
   "id": "38521ac4",
   "metadata": {},
   "outputs": [],
   "source": [
    "model.simulator.dt = 0.1  # ms"
   ]
  },
  {
   "cell_type": "code",
   "execution_count": 24,
   "id": "4e0f8b3e",
   "metadata": {},
   "outputs": [],
   "source": [
    "model.simulator.run(1000); #ms"
   ]
  },
  {
   "cell_type": "code",
   "execution_count": 25,
   "id": "d5edcbfa",
   "metadata": {},
   "outputs": [
    {
     "data": {
      "image/png": "[encoded data removed]",
      "text/plain": [
       "<Figure size 1000x400 with 1 Axes>"
      ]
     },
     "metadata": {},
     "output_type": "display_data"
    }
   ],
   "source": [
    "fig, ax = plt.subplots(1, 1, figsize=(10, 4))\n",
    "model.simulator.plot_voltage(ax=ax)"
   ]
  },
  {
   "cell_type": "code",
   "execution_count": 26,
   "id": "c1e8a0e9",
   "metadata": {},
   "outputs": [],
   "source": [
    "model.export_stimuli(file_name='depolarizing_current') # Export the stimuli to JSON and CSV files"
   ]
  },
  {
   "cell_type": "code",
   "execution_count": 46,
   "id": "9f52a7ef",
   "metadata": {},
   "outputs": [],
   "source": [
    "model.remove_all_stimuli() \n",
    "model.remove_all_recordings()\n",
    "\n",
    "model.add_recording(soma, loc=0.5)\n",
    "\n",
    "model.add_population(\n",
    "    segments=[soma(0.5)],\n",
    "    N=1,\n",
    "    syn_type='AMPA'\n",
    ")\n",
    "\n",
    "model.populations['AMPA']['AMPA_0'].update_input_params(\n",
    "    start=100, \n",
    "    end=900, \n",
    "    noise=1,\n",
    "    rate=15)\n"
   ]
  },
  {
   "cell_type": "code",
   "execution_count": 47,
   "id": "9d1c3ad8",
   "metadata": {},
   "outputs": [
    {
     "data": {
      "text/plain": [
       "{'rate': 15, 'noise': 1, 'start': 100, 'end': 900, 'weight': 1, 'delay': 0}"
      ]
     },
     "execution_count": 47,
     "metadata": {},
     "output_type": "execute_result"
    }
   ],
   "source": [
    "model.populations['AMPA']['AMPA_0'].input_params"
   ]
  },
  {
   "cell_type": "code",
   "execution_count": 48,
   "id": "6a3902b4",
   "metadata": {},
   "outputs": [
    {
     "data": {
      "text/plain": [
       "{'gmax': 0.001, 'tau_rise': 0.1, 'tau_decay': 2.5, 'e': 0}"
      ]
     },
     "execution_count": 48,
     "metadata": {},
     "output_type": "execute_result"
    }
   ],
   "source": [
    "model.populations['AMPA']['AMPA_0'].kinetic_params"
   ]
  },
  {
   "cell_type": "code",
   "execution_count": 49,
   "id": "336703fd",
   "metadata": {},
   "outputs": [],
   "source": [
    "model.run(1000); #ms"
   ]
  },
  {
   "cell_type": "code",
   "execution_count": 51,
   "id": "a706d0e5",
   "metadata": {},
   "outputs": [
    {
     "data": {
      "text/plain": [
       "(-80.0, 40.0)"
      ]
     },
     "execution_count": 51,
     "metadata": {},
     "output_type": "execute_result"
    },
    {
     "data": {
      "image/png": "[encoded data removed]",
      "text/plain": [
       "<Figure size 1000x400 with 1 Axes>"
      ]
     },
     "metadata": {},
     "output_type": "display_data"
    }
   ],
   "source": [
    "fig, ax = plt.subplots(1, 1, figsize=(10, 4))\n",
    "model.simulator.plot_voltage(ax=ax)\n",
    "ax.set_ylim(-80, 40)"
   ]
  },
  {
   "cell_type": "code",
   "execution_count": 52,
   "id": "1afbc6bc",
   "metadata": {},
   "outputs": [],
   "source": [
    "model.export_stimuli(file_name='ampa_synaptic_input') # Export the stimuli to JSON and CSV files"
   ]
  },
  {
   "cell_type": "code",
   "execution_count": null,
   "id": "6c0511f9",
   "metadata": {},
   "outputs": [
    {
     "data": {
      "text/plain": [
       "(10001,)"
      ]
     },
     "execution_count": 27,
     "metadata": {},
     "output_type": "execute_result"
    }
   ],
   "source": [
    "# v = np.array(list(model.simulator.recordings['v'].values())[0])\n",
    "# path_to_voltage = os.path.join(path_to_model, 'voltage.npy')\n",
    "# np.save(path_to_voltage, v)\n",
    "# v.shape"
   ]
  }
 ],
 "metadata": {
  "kernelspec": {
   "display_name": "dendrotweakstest",
   "language": "python",
   "name": "python3"
  },
  "language_info": {
   "codemirror_mode": {
    "name": "ipython",
    "version": 3
   },
   "file_extension": ".py",
   "mimetype": "text/x-python",
   "name": "python",
   "nbconvert_exporter": "python",
   "pygments_lexer": "ipython3",
   "version": "3.11.11"
  }
 },
 "nbformat": 4,
 "nbformat_minor": 5
}
