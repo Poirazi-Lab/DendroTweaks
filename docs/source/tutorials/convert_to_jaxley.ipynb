{
 "cells": [
  {
   "cell_type": "markdown",
   "metadata": {},
   "source": [
    "# NMODL to Python conversion for Jaxley (Notebook)"
   ]
  },
  {
   "cell_type": "markdown",
   "metadata": {},
   "source": [
    "[![Open In Colab](https://colab.research.google.com/assets/colab-badge.svg)](https://colab.research.google.com/github/Poirazi-Lab/DendroTweaks/blob/main/docs/source/tutorials/convert_to_jaxley.ipynb)"
   ]
  },
  {
   "cell_type": "markdown",
   "metadata": {},
   "source": [
    "This notebook demonstrates how to convert channel models from NEURON MOD files to Jaxley-compatible Python classes. \n",
    "\n",
    "We will use the `MODFileConverter` class to convert Na and Kv channels using a Jinja template (`jaxley.py`). These channels will be added to a simple Jaxley point-neuron model to demonstrate the simulation. \n",
    "\n",
    "Note that while this notebook provides a working example, the template implementation is currently under development. In particular, handling equilibrium potentials (currently hardcoded) and the temperature adjustment coefficient tadj will likely be improved in a future version.\n",
    "\n",
    "If you experience any problems parsing your MOD files with DendroTweaks, please refer to the documentation page https://dendrotweaks.readthedocs.io/en/latest/tutorials/tutorial_mod.html#. If the problem persists, feel free to contact us."
   ]
  },
  {
   "cell_type": "code",
   "execution_count": null,
   "metadata": {},
   "outputs": [],
   "source": [
    "!pip install jaxley --quiet"
   ]
  },
  {
   "cell_type": "code",
   "execution_count": null,
   "metadata": {},
   "outputs": [],
   "source": [
    "!pip install dendrotweaks --quiet"
   ]
  },
  {
   "cell_type": "markdown",
   "metadata": {},
   "source": [
    "If you are using Google Colab, you might also need to restart the session as the installation downgraded some packages (numpy). You can do it manually or programmatically as shown below:"
   ]
  },
  {
   "cell_type": "code",
   "execution_count": null,
   "metadata": {},
   "outputs": [],
   "source": [
    "# import os\n",
    "# os.kill(os.getpid(), 9)"
   ]
  },
  {
   "cell_type": "code",
   "execution_count": 1,
   "metadata": {},
   "outputs": [],
   "source": [
    "import numpy as np\n",
    "import matplotlib.pyplot as plt\n",
    "import os"
   ]
  },
  {
   "cell_type": "code",
   "execution_count": 2,
   "metadata": {},
   "outputs": [
    {
     "data": {
      "text/plain": [
       "'0.4.4'"
      ]
     },
     "execution_count": 2,
     "metadata": {},
     "output_type": "execute_result"
    }
   ],
   "source": [
    "import dendrotweaks as dd\n",
    "dd.__version__"
   ]
  },
  {
   "cell_type": "code",
   "execution_count": 7,
   "metadata": {},
   "outputs": [
    {
     "name": "stdout",
     "output_type": "stream",
     "text": [
      "Downloading example data...\n",
      "Downloading data from https://github.com/Poirazi-Lab/DendroTweaks/archive/refs/heads/main.zip...\n",
      "Extracting relevant folders to examples...\n",
      "Data downloaded and extracted successfully to examples/.\n"
     ]
    }
   ],
   "source": [
    "os.makedirs('examples', exist_ok=True)\n",
    "if not os.listdir('examples/'):\n",
    "    print(\"Downloading example data...\")\n",
    "    dd.download_example_data('examples')"
   ]
  },
  {
   "cell_type": "markdown",
   "metadata": {},
   "source": [
    "## Converting channels"
   ]
  },
  {
   "cell_type": "code",
   "execution_count": null,
   "metadata": {},
   "outputs": [],
   "source": [
    "from dendrotweaks.biophys.io import MODFileConverter"
   ]
  },
  {
   "cell_type": "code",
   "execution_count": 2,
   "metadata": {},
   "outputs": [],
   "source": [
    "converter = MODFileConverter()"
   ]
  },
  {
   "cell_type": "code",
   "execution_count": null,
   "metadata": {},
   "outputs": [],
   "source": [
    "path_to_mod_file = os.path.join('examples', 'Toy', 'biophys', 'mod', 'Na.mod')\n",
    "path_to_python = os.path.join('examples', 'Toy', 'biophys', 'python', 'Najx.py')\n",
    "path_to_template = os.path.join('examples', 'Templates', 'jaxley.py')"
   ]
  },
  {
   "cell_type": "code",
   "execution_count": null,
   "metadata": {},
   "outputs": [
    {
     "name": "stdout",
     "output_type": "stream",
     "text": [
      "Saved content to /home/roman/Documents/code/DendroTweaksLab/DendroTweaks/examples/Toy/biophys/python/Najx.py\n"
     ]
    }
   ],
   "source": [
    "converter.convert(path_to_mod_file, path_to_python, path_to_template);"
   ]
  },
  {
   "cell_type": "code",
   "execution_count": 19,
   "metadata": {},
   "outputs": [
    {
     "name": "stdout",
     "output_type": "stream",
     "text": [
      "# This Python channel class was automatically generated from a MOD file\n",
      "# using DendroTweaks toolbox, dendrotweaks.dendrites.gr\n",
      "\n",
      "\n",
      "from jaxley.channels import Channel\n",
      "from jaxley.solver_gate import exponential_euler\n",
      "import jax.numpy as np\n",
      "\n",
      "class Kv(Channel):\n",
      "    \"\"\"\n",
      "    Kv_Park_ref\n",
      "    \"\"\"\n",
      "\n",
      "    def __init__(self, name=\"Kv\"):\n",
      "        self.current_is_in_mA_per_cm2 = True\n",
      "        super().__init__(name=name)\n",
      "        self.channel_params = {\n",
      "            \"gbar_Kv\": 0.0,\n",
      "            \"Ra_Kv\": 0.02,\n",
      "      \n",
      "...\n"
     ]
    }
   ],
   "source": [
    "with open(path_to_python, 'r') as f:\n",
    "    code = f.read()\n",
    "    print(code[:500])  # Print the first 500 characters of the generated code\n",
    "    print(\"...\")"
   ]
  },
  {
   "cell_type": "code",
   "execution_count": null,
   "metadata": {},
   "outputs": [],
   "source": [
    "path_to_mod_file = os.path.join('examples', 'Toy', 'biophys', 'mod', 'Kv.mod')\n",
    "path_to_python = os.path.join('examples', 'Toy', 'biophys', 'python', 'Kvjx.py')\n",
    "path_to_template = os.path.join('examples', 'Templates', 'jaxley.py')"
   ]
  },
  {
   "cell_type": "code",
   "execution_count": null,
   "metadata": {},
   "outputs": [
    {
     "name": "stdout",
     "output_type": "stream",
     "text": [
      "Saved content to /home/roman/Documents/code/DendroTweaksLab/DendroTweaks/examples/Toy/biophys/python/Kvjx.py\n"
     ]
    }
   ],
   "source": [
    "converter.convert(path_to_mod_file, path_to_python, path_to_template);"
   ]
  },
  {
   "cell_type": "markdown",
   "metadata": {},
   "source": [
    "## Setting up a model"
   ]
  },
  {
   "cell_type": "code",
   "execution_count": 7,
   "metadata": {},
   "outputs": [],
   "source": [
    "import jaxley as jx"
   ]
  },
  {
   "cell_type": "code",
   "execution_count": null,
   "metadata": {},
   "outputs": [],
   "source": [
    "from examples.Toy.biophys.python.Najx import Na\n",
    "from examples.Toy.biophys.python.Kvjx import Kv\n",
    "from jaxley.channels import Leak"
   ]
  },
  {
   "cell_type": "code",
   "execution_count": 9,
   "metadata": {},
   "outputs": [
    {
     "name": "stderr",
     "output_type": "stream",
     "text": [
      "An NVIDIA GPU may be present on this machine, but a CUDA-enabled jaxlib is not installed. Falling back to cpu.\n"
     ]
    },
    {
     "name": "stdout",
     "output_type": "stream",
     "text": [
      "3.2093639532679714 3.2093639532679714\n"
     ]
    }
   ],
   "source": [
    "cell = jx.Cell()  # Define cell.\n",
    "\n",
    "temperature = 37.0\n",
    "\n",
    "na = Na()\n",
    "kv = Kv()\n",
    "na.set_tadj(temperature)\n",
    "kv.set_tadj(temperature)\n",
    "print(na.tadj, kv.tadj)\n",
    "\n",
    "cell.insert(na)\n",
    "cell.insert(kv)\n",
    "cell.insert(Leak())"
   ]
  },
  {
   "cell_type": "code",
   "execution_count": 10,
   "metadata": {},
   "outputs": [
    {
     "data": {
      "text/plain": [
       "Index(['local_cell_index', 'local_branch_index', 'local_comp_index', 'length',\n",
       "       'radius', 'axial_resistivity', 'capacitance', 'v', 'global_cell_index',\n",
       "       'global_branch_index', 'global_comp_index', 'controlled_by_param', 'Na',\n",
       "       'gbar_Na', 'Rma_Na', 'Rmb_Na', 'v12m_Na', 'qm_Na', 'Rhb_Na', 'Rha_Na',\n",
       "       'v12ha_Na', 'v12hb_Na', 'qh_Na', 'v12hinf_Na', 'qhinf_Na', 'temp_Na',\n",
       "       'q10_Na', 'm_Na', 'h_Na', 'Kv', 'gbar_Kv', 'Ra_Kv', 'Rb_Kv', 'v12_Kv',\n",
       "       'q_Kv', 'temp_Kv', 'q10_Kv', 'n_Kv', 'Leak', 'Leak_gLeak',\n",
       "       'Leak_eLeak'],\n",
       "      dtype='object')"
      ]
     },
     "execution_count": 10,
     "metadata": {},
     "output_type": "execute_result"
    }
   ],
   "source": [
    "cell.nodes.columns"
   ]
  },
  {
   "cell_type": "code",
   "execution_count": 11,
   "metadata": {},
   "outputs": [
    {
     "data": {
      "text/plain": [
       "0   -70.0\n",
       "Name: Leak_eLeak, dtype: float64"
      ]
     },
     "execution_count": 11,
     "metadata": {},
     "output_type": "execute_result"
    }
   ],
   "source": [
    "cell.nodes['Leak_eLeak']"
   ]
  },
  {
   "cell_type": "code",
   "execution_count": 12,
   "metadata": {},
   "outputs": [],
   "source": [
    "cell.set('gbar_Na', 0.05)\n",
    "cell.set('gbar_Kv', 0.01)\n",
    "cell.set('length', 20)\n",
    "cell.set('radius', 10)\n",
    "cell.set('Leak_gLeak', 0.0003)\n",
    "cell.set('axial_resistivity', 100)\n",
    "cell.set('capacitance', 1.0)"
   ]
  },
  {
   "cell_type": "markdown",
   "metadata": {},
   "source": [
    "## Running a simulation"
   ]
  },
  {
   "cell_type": "code",
   "execution_count": 13,
   "metadata": {},
   "outputs": [
    {
     "name": "stdout",
     "output_type": "stream",
     "text": [
      "Added 1 external_states. See `.externals` for details.\n",
      "Added 1 recordings. See `.recordings` for details.\n"
     ]
    }
   ],
   "source": [
    "current = jx.step_current(i_delay=100.0, i_dur=100.0, i_amp=0.1, delta_t=0.025, t_max=300.0)\n",
    "cell.stimulate(current)  # Stimulate with step current.\n",
    "cell.record(\"v\")  # Record voltage."
   ]
  },
  {
   "cell_type": "code",
   "execution_count": 14,
   "metadata": {},
   "outputs": [
    {
     "data": {
      "text/plain": [
       "Text(0.5, 1.0, 'Somatic Action Potentials')"
      ]
     },
     "execution_count": 14,
     "metadata": {},
     "output_type": "execute_result"
    },
    {
     "data": {
      "image/png": "[encoded data removed]",
      "text/plain": [
       "<Figure size 1000x500 with 1 Axes>"
      ]
     },
     "metadata": {},
     "output_type": "display_data"
    }
   ],
   "source": [
    "v = jx.integrate(cell, delta_t=0.025, t_max=300.0)  # Run simulation.\n",
    "t = np.arange(0, 300, 0.025)  # Create time vector.\n",
    "fig, ax = plt.subplots(figsize=(10, 5))\n",
    "ax.plot(t, v.T[:-1]) \n",
    "ax.set_ylim(-100, 60)\n",
    "ax.set_xlabel('Time (ms)')\n",
    "ax.set_ylabel('Voltage (mV)')\n",
    "ax.set_title('Somatic Action Potentials')"
   ]
  }
 ],
 "metadata": {
  "kernelspec": {
   "display_name": "dendrotweakstest",
   "language": "python",
   "name": "python3"
  },
  "language_info": {
   "codemirror_mode": {
    "name": "ipython",
    "version": 3
   },
   "file_extension": ".py",
   "mimetype": "text/x-python",
   "name": "python",
   "nbconvert_exporter": "python",
   "pygments_lexer": "ipython3",
   "version": "3.11.11"
  }
 },
 "nbformat": 4,
 "nbformat_minor": 2
}
